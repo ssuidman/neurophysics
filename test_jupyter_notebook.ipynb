{
 "cells": [
  {
   "cell_type": "code",
   "execution_count": 28,
   "metadata": {},
   "outputs": [
    {
     "name": "stdout",
     "output_type": "stream",
     "text": [
      "[8.78833333e-02 3.33333333e-05 1.66766667e-01 3.66666667e-04\n",
      " 1.66666667e-05 1.25000000e-03 8.00333333e-02 3.22133333e-01\n",
      " 0.00000000e+00 3.41516667e-01]\n"
     ]
    },
    {
     "name": "stderr",
     "output_type": "stream",
     "text": [
      "/Users/samsuidman/opt/anaconda3/lib/python3.7/site-packages/ipykernel_launcher.py:35: RuntimeWarning: invalid value encountered in log\n"
     ]
    },
    {
     "name": "stdout",
     "output_type": "stream",
     "text": [
      "[1. 0. 0. 0. 0. 0. 0. 0. 0. 0.]\n",
      "[0. 1. 0. 0. 0. 0. 0. 0. 0. 0.]\n",
      "[1. 0. 0. 0. 0. 0. 0. 0. 0. 0.]\n",
      "[0. 1. 0. 0. 0. 0. 0. 0. 0. 0.]\n",
      "[1. 0. 0. 0. 0. 0. 0. 0. 0. 0.]\n",
      "[0. 1. 0. 0. 0. 0. 0. 0. 0. 0.]\n",
      "[1. 0. 0. 0. 0. 0. 0. 0. 0. 0.]\n",
      "[0. 1. 0. 0. 0. 0. 0. 0. 0. 0.]\n",
      "[1. 0. 0. 0. 0. 0. 0. 0. 0. 0.]\n"
     ]
    }
   ],
   "source": [
    "import numpy as np\n",
    "import matplotlib.pyplot as plt\n",
    "from scipy.io import loadmat\n",
    "import time\n",
    "\n",
    "#Loading in the MNIST data\n",
    "file = loadmat('/Users/samsuidman/Desktop/neurophysics/machine_learning/mnistAll.mat') \n",
    "\n",
    "def visualize(X,t,i): #visualizes an image and shows what it is supposed to be \n",
    "    print(t[i])\n",
    "    plt.imshow(X[i][1:].reshape(28,28))\n",
    "\n",
    "#Preparing the data\n",
    "train_images = file['mnist']['train_images'][0][0]\n",
    "train_labels = file['mnist']['train_labels'][0][0].transpose()[0]\n",
    "test_images = file['mnist']['test_images'][0][0]\n",
    "test_labels = file['mnist']['test_labels'][0][0].transpose()[0]\n",
    "\n",
    "X = np.transpose(train_images.reshape(train_images.shape[0]*train_images.shape[1],train_images.shape[2]))\n",
    "X = X/np.max(X)\n",
    "#X = np.insert(X,0,1,axis=1) #image data with a one in front \n",
    "t = train_labels.copy() #labels for the image data (not needed, only to check)\n",
    "\n",
    "N = X.shape[0]\n",
    "K = 10\n",
    "d = X.shape[1]\n",
    "\n",
    "def random_pi_mu(d,K):\n",
    "    pi0 = np.random.random(size=K)\n",
    "    pi0 = pi0/np.sum(pi0)\n",
    "    mu0 = np.random.random(size=(K,d))\n",
    "    k0 = np.random.randin(size=d)\n",
    "    return k0,pi0,mu0\n",
    "\n",
    "def get_k(X,mu): #hier komt een lijst van allemaal dezelfde k uit, waarschijnlijk door bepaalde initialisatie. Later kijken of dit fout is. \n",
    "    k_matrix = np.matmul(np.log(np.where(mu==0,1,mu)),X.transpose()) + np.matmul(np.log(1-np.where(mu==1,0,mu)),(1-X).transpose()) #Here mu can be 0 since sum of all first digits of image is zero because it is background. In this case x*log(mu) = 0*log(0) = 0. That is why mu should be set to 1 inside the log, so log(1)=0. \n",
    "    k = np.argmax(k_matrix,axis=0)\n",
    "    return k \n",
    "\n",
    "def get_pi(k,K,N):\n",
    "    pi = np.array([len(np.where(k==i)[0]) for i in range(K)])/N\n",
    "    return pi\n",
    "\n",
    "def get_mu(pi,d,K):\n",
    "    mu = np.array([np.sum(X[np.where(k==i)],axis=0)/(pi[i]*N) if pi[i]!=0 else np.zeros(d) for i in range(K)])\n",
    "    return mu \n",
    "\n",
    "def clustering(d,K,N,runs):\n",
    "    pi,mu = random_pi_mu(d,K)\n",
    "    for i in range(runs):\n",
    "        k = get_k(X,mu)\n",
    "        pi = get_pi(k,K,N)\n",
    "        mu = get_mu(pi,d,K)\n",
    "        print(pi)\n",
    "    return k, pi, mu\n",
    "\n",
    "#pi0,mu0 = random_pi_mu(d,K)\n",
    "k,pi,mu = clustering(d,K,N,10)\n"
   ]
  },
  {
   "cell_type": "code",
   "execution_count": 81,
   "metadata": {},
   "outputs": [],
   "source": [
    "k = get_k(X,mu0)\n",
    "pi = get_pi(k,K,N)"
   ]
  },
  {
   "cell_type": "code",
   "execution_count": 82,
   "metadata": {},
   "outputs": [
    {
     "data": {
      "text/plain": [
       "array([2.70000000e-03, 6.36966667e-01, 5.00000000e-04, 0.00000000e+00,\n",
       "       1.15866667e-01, 0.00000000e+00, 2.21466667e-01, 2.24333333e-02,\n",
       "       5.00000000e-05, 1.66666667e-05])"
      ]
     },
     "execution_count": 82,
     "metadata": {},
     "output_type": "execute_result"
    }
   ],
   "source": [
    "pi"
   ]
  },
  {
   "cell_type": "code",
   "execution_count": 84,
   "metadata": {},
   "outputs": [],
   "source": [
    "k_matrix = np.matmul(np.log(np.where(mu0==0,1,mu0)),X.transpose()) + np.matmul(np.log(1-np.where(mu0==1,0,mu0)),(1-X).transpose()) \n",
    "#k = np.argmax(k_matrix,axis=0)"
   ]
  },
  {
   "cell_type": "code",
   "execution_count": 102,
   "metadata": {},
   "outputs": [
    {
     "data": {
      "text/plain": [
       "1"
      ]
     },
     "execution_count": 102,
     "metadata": {},
     "output_type": "execute_result"
    }
   ],
   "source": [
    "np.argmax(k_matrix[:,3])"
   ]
  },
  {
   "cell_type": "code",
   "execution_count": 117,
   "metadata": {},
   "outputs": [
    {
     "data": {
      "text/plain": [
       "array([ 98.78558167, 172.78395253, 124.17676215, 142.17085509,\n",
       "         0.        , 173.50588235, 168.28028155, 160.20196966,\n",
       "         0.        , 115.67684473])"
      ]
     },
     "execution_count": 117,
     "metadata": {},
     "output_type": "execute_result"
    }
   ],
   "source": [
    "np.sum(mu,axis=1)"
   ]
  },
  {
   "cell_type": "code",
   "execution_count": 110,
   "metadata": {},
   "outputs": [
    {
     "data": {
      "text/plain": [
       "array([-809.95589783, -753.5813319 , -807.61303712, -843.81612966,\n",
       "       -761.48620738, -807.57878946, -770.05231903, -787.4061799 ,\n",
       "       -815.61711123, -807.19081035])"
      ]
     },
     "execution_count": 110,
     "metadata": {},
     "output_type": "execute_result"
    }
   ],
   "source": [
    "k_matrix[:,3]"
   ]
  },
  {
   "cell_type": "code",
   "execution_count": 111,
   "metadata": {},
   "outputs": [
    {
     "data": {
      "text/plain": [
       "array([-789.52049486, -755.79070404, -809.09536313, -817.38617704,\n",
       "       -770.02834955, -809.7411438 , -770.28860003, -750.28093345,\n",
       "       -811.34436503, -822.16580159])"
      ]
     },
     "execution_count": 111,
     "metadata": {},
     "output_type": "execute_result"
    }
   ],
   "source": [
    "k_matrix[:,4]"
   ]
  },
  {
   "cell_type": "code",
   "execution_count": null,
   "metadata": {},
   "outputs": [],
   "source": []
  }
 ],
 "metadata": {
  "interpreter": {
   "hash": "4aedca058b4155234967fa3da88bf0b29abe2f47d758f3debe6af85bc2e061a5"
  },
  "kernelspec": {
   "display_name": "Python 3.7.10 64-bit ('base': conda)",
   "name": "python3"
  },
  "language_info": {
   "codemirror_mode": {
    "name": "ipython",
    "version": 3
   },
   "file_extension": ".py",
   "mimetype": "text/x-python",
   "name": "python",
   "nbconvert_exporter": "python",
   "pygments_lexer": "ipython3",
   "version": "3.7.10"
  }
 },
 "nbformat": 4,
 "nbformat_minor": 2
}
