{
 "cells": [
  {
   "cell_type": "code",
   "execution_count": 1,
   "metadata": {},
   "outputs": [],
   "source": [
    "import numpy as np\n",
    "import matplotlib.pyplot as plt\n",
    "from time import time"
   ]
  },
  {
   "cell_type": "code",
   "execution_count": 2,
   "metadata": {},
   "outputs": [
    {
     "name": "stdout",
     "output_type": "stream",
     "text": [
      "h = 4 , p1 = 0.2 , p2 = 0.3\n",
      "create V with N = 70 states\n",
      "t = 4 0.0008 sec for 20 states\n",
      "t = 3 0.0008 sec for 10 states\n",
      "t = 2 0.0007 sec for 4 states\n",
      "t = 1 0.0001 sec for 1 states\n",
      "t = 0 0.0 sec for 0 states\n",
      "Machines chosen:\n",
      "[1 2 1 2]\n",
      "Total profit: 0\n",
      "\n",
      "\n",
      "Example: V = 0.72 for h=4\n"
     ]
    }
   ],
   "source": [
    "# Bellman equations to calculate all backward values \n",
    "\n",
    "def p(n,w): # calculate expected probability from drawings and payoffs for a machine\n",
    "    return (w+1)/(n+2)\n",
    "\n",
    "def get_V(h,p1,p2):\n",
    "    t_array = np.zeros(h)\n",
    "    V = np.zeros([h+1,h+1,h+1,h+1])\n",
    "    print('h =',h,', p1 =',p1,', p2 =',p2)\n",
    "    print('create V with N =',int((h**4+10*h**3+35*h**2+50*h+24)/24),'states')\n",
    "    t1 = time()\n",
    "    count = 0\n",
    "    for n1 in range(h): # look at all states at a certain time\n",
    "        n2 = h-1-n1 # (n1,n2) = (10,0),(9,1),(8,2),...,(9,0),(8,1),(7,2),...,(8,0),(7,1),...,...(0,1),(1,0),(0,0) --> state (0,0) can maybe cause problems       \n",
    "        for w1 in range(n1+1):\n",
    "            for w2 in range(n2+1):\n",
    "                count += 1\n",
    "                V[n1,w1,n2,w2] = np.max([p(n1,w1),p(n2,w2)])\n",
    "    t2 = time()\n",
    "    print('t =',h,round(t2-t1,4),'sec for',count,'states')\n",
    "    t_array[h-1] = t2-t1\n",
    "\n",
    "    for t in range(h)[::-1]: # look at all time points \n",
    "        count = 0\n",
    "        t1 = time()\n",
    "        for n1 in range(t+1): # look at all states at a certain time\n",
    "            n2 = t-1-n1 # (n1,n2) = (10,0),(9,1),(8,2),...,(9,0),(8,1),(7,2),...,(8,0),(7,1),...,...(0,1),(1,0),(0,0) --> state (0,0) can maybe cause problems       \n",
    "            for w1 in range(n1+1):\n",
    "                for w2 in range(n2+1):\n",
    "                    count += 1\n",
    "                    value1 = p(n1,w1)*(1+V[n1+1,w1+1,n2,w2])+(1-p(n1,w1))*V[n1+1,w1,n2,w2]\n",
    "                    value2 = p(n2,w2)*(1+V[n1,w1,n2+1,w2+1])+(1-p(n2,w2))*V[n1,w1,n2+1,w2]\n",
    "                    V[n1,w1,n2,w2] = np.max([value1,value2],axis=0)\n",
    "        t2 = time()\n",
    "        print('t =',t,round(t2-t1,4),'sec for',count,'states')\n",
    "        t_array[h-1-t] = t2-t1\n",
    "    return V,t_array\n",
    "\n",
    "def two_armed_bandit(h,p1,p2):\n",
    "    V,t = get_V(h,p1,p2)\n",
    "\n",
    "    # initialize values before drawing\n",
    "    n1,w1,n2,w2 = 0,0,0,0 # initialize states\n",
    "    states = np.zeros([h+1,4]) # state matrix\n",
    "\n",
    "    for i in range(1,h+1): # first state is all zeros, from there fill in the matrix\n",
    "        value1 = p(n1,w1)*(1+V[n1+1,w1+1,n2,w2])+(1-p(n1,w1))*V[n1+1,w1,n2,w2]\n",
    "        value2 = p(n2,w2)*(1+V[n1,w1,n2+1,w2+1])+(1-p(n2,w2))*V[n1,w1,n2+1,w2]\n",
    "        machine =  np.argmax([value1,value2]) + 1\n",
    "        if machine==1:\n",
    "            n1 += 1\n",
    "            if np.random.rand()<p1:\n",
    "                w1 += 1\n",
    "        else:\n",
    "            n2 += 1\n",
    "            if np.random.rand()<p2:\n",
    "                w2 += 1\n",
    "        states[i] = n1,w1,n2,w2\n",
    "        w = w1+w2\n",
    "    return states,w,V,t\n",
    "\n",
    "h = 4\n",
    "p1,p2 = 0.2,0.3 # probability that machine pays off 1 \n",
    "\n",
    "states,w,V,t = two_armed_bandit(h,p1,p2)\n",
    "print('Machines chosen:')\n",
    "print(np.argmax(np.diff(states[:,[0,2]],axis=0),axis=1)+1)\n",
    "print('Total profit:',w)\n",
    "\n",
    "if h>20:\n",
    "    fig,ax = plt.subplots()\n",
    "    ax.plot(np.arange(h)[::-1],t)\n",
    "    ax.set_xlabel('t')\n",
    "    ax.set_ylabel('time per iteration')\n",
    "    ax.set_xticks(np.arange(0,h,int(h/10)))\n",
    "\n",
    "print('\\n')\n",
    "print('Example: V =',round(V[1,0,1,0],2),'for h=4')"
   ]
  },
  {
   "cell_type": "code",
   "execution_count": null,
   "metadata": {},
   "outputs": [],
   "source": []
  },
  {
   "cell_type": "code",
   "execution_count": null,
   "metadata": {},
   "outputs": [],
   "source": []
  },
  {
   "cell_type": "code",
   "execution_count": null,
   "metadata": {},
   "outputs": [],
   "source": []
  },
  {
   "cell_type": "code",
   "execution_count": null,
   "metadata": {},
   "outputs": [],
   "source": []
  },
  {
   "cell_type": "code",
   "execution_count": null,
   "metadata": {},
   "outputs": [],
   "source": []
  },
  {
   "cell_type": "code",
   "execution_count": null,
   "metadata": {},
   "outputs": [],
   "source": []
  }
 ],
 "metadata": {
  "interpreter": {
   "hash": "4aedca058b4155234967fa3da88bf0b29abe2f47d758f3debe6af85bc2e061a5"
  },
  "kernelspec": {
   "display_name": "Python 3",
   "language": "python",
   "name": "python3"
  },
  "language_info": {
   "codemirror_mode": {
    "name": "ipython",
    "version": 3
   },
   "file_extension": ".py",
   "mimetype": "text/x-python",
   "name": "python",
   "nbconvert_exporter": "python",
   "pygments_lexer": "ipython3",
   "version": "3.7.11"
  }
 },
 "nbformat": 4,
 "nbformat_minor": 2
}
