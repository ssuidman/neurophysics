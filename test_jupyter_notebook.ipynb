{
 "cells": [
  {
   "cell_type": "code",
   "execution_count": 7,
   "metadata": {},
   "outputs": [
    {
     "name": "stdout",
     "output_type": "stream",
     "text": [
      "CV:    1.006\n",
      "fano:  0.311\n"
     ]
    },
    {
     "data": {
      "text/plain": [
       "(0.0, 0.05)"
      ]
     },
     "execution_count": 7,
     "metadata": {},
     "output_type": "execute_result"
    },
    {
     "data": {
      "image/png": "[encoded data removed]",
      "text/plain": [
       "<Figure size 432x288 with 1 Axes>"
      ]
     },
     "metadata": {
      "needs_background": "light"
     },
     "output_type": "display_data"
    }
   ],
   "source": [
    "import numpy as np\n",
    "import matplotlib.pyplot as plt\n",
    "import numpy as np\n",
    "\n",
    "f = 100\n",
    "T = 10\n",
    "k = 100 #for defining how much space should be between two poisson spikes, per second there are f*k timesteps\n",
    "dt = 1/(f*k) # take time steps k times smaller than histogram\n",
    "t = np.linspace(0,T,round(T/dt))\n",
    "spikes = np.zeros(round(T/dt),dtype=int)\n",
    "\n",
    "for i in range(len(spikes)):\n",
    "    spikes[i] = np.random.poisson(1/k) # np.sum(spikes)=T*f should be in the end \n",
    "ISI = np.diff(np.where(spikes==1))[0]*dt\n",
    "CV = np.std(ISI)/np.mean(ISI)\n",
    "spikes_reshaped = np.sum(spikes.reshape(round(0.1/dt),round(len(spikes)/round(0.1/dt))),0)\n",
    "fano = np.std(spikes_reshaped)/np.mean(spikes_reshaped)\n",
    "print(\"CV:   \",round(CV,3))\n",
    "print(\"fano: \",round(fano,3))\n",
    "\n",
    "\n",
    "plt.hist(ISI,bins=30)\n",
    "plt.xlim(0,0.05)\n"
   ]
  },
  {
   "cell_type": "code",
   "execution_count": 224,
   "metadata": {},
   "outputs": [
    {
     "data": {
      "text/plain": [
       "array([0.0063, 0.0009, 0.0236, 0.015 , 0.0068, 0.0013, 0.0001, 0.0292,\n",
       "       0.0001, 0.0021, 0.0157, 0.0188, 0.0005, 0.0174, 0.0126, 0.0091,\n",
       "       0.0059, 0.0072, 0.0009, 0.0018, 0.0009, 0.0185, 0.0007, 0.0061,\n",
       "       0.025 , 0.0141, 0.0016, 0.0018, 0.0087, 0.0155, 0.0123, 0.0017,\n",
       "       0.0267, 0.0138, 0.0225, 0.0126, 0.0077, 0.0004, 0.0061, 0.0132,\n",
       "       0.016 , 0.0056, 0.0042, 0.0027, 0.0184, 0.0037, 0.0007, 0.007 ,\n",
       "       0.0158, 0.0002, 0.015 , 0.0003, 0.0033, 0.0017, 0.0303, 0.0064,\n",
       "       0.0076, 0.0236, 0.0029, 0.0181, 0.0002, 0.0153, 0.0044, 0.0113,\n",
       "       0.0028, 0.0033, 0.0124, 0.0037, 0.0208, 0.006 , 0.0056, 0.0281,\n",
       "       0.0131, 0.0016, 0.0023, 0.0178, 0.0472, 0.0111, 0.0075, 0.0127,\n",
       "       0.0036, 0.0049, 0.0196, 0.0102, 0.0049, 0.0287, 0.0021, 0.036 ,\n",
       "       0.0182, 0.004 , 0.0052, 0.0102, 0.0011, 0.0037, 0.0035, 0.0057,\n",
       "       0.0078, 0.003 , 0.0058, 0.0107, 0.0105, 0.0032, 0.0348, 0.0012,\n",
       "       0.0057, 0.0129, 0.0197, 0.0032, 0.0052, 0.0072, 0.0042, 0.008 ,\n",
       "       0.0158, 0.0098, 0.0051, 0.0062, 0.0018, 0.0129, 0.0004, 0.0104,\n",
       "       0.007 , 0.0115, 0.0006, 0.0063, 0.0005, 0.0012, 0.0043, 0.0047,\n",
       "       0.0065, 0.0008, 0.0049, 0.0002, 0.0003, 0.0433, 0.0061, 0.0056,\n",
       "       0.0057, 0.0368, 0.0096, 0.0124, 0.0439, 0.0117, 0.0477, 0.0102,\n",
       "       0.0049, 0.0122, 0.0024, 0.014 , 0.0139, 0.0012, 0.0007, 0.0061,\n",
       "       0.0184, 0.006 , 0.0012, 0.002 , 0.0043, 0.008 , 0.0026, 0.0001,\n",
       "       0.0015, 0.0115, 0.0093, 0.0071, 0.0122, 0.007 , 0.0223, 0.002 ,\n",
       "       0.0064, 0.0221, 0.0023, 0.0112, 0.0016, 0.0009, 0.0064, 0.0124,\n",
       "       0.0029, 0.0091, 0.0253, 0.0179, 0.0131, 0.0125, 0.0097, 0.012 ,\n",
       "       0.0022, 0.0023, 0.0012, 0.0034, 0.0056, 0.0259, 0.0014, 0.0029,\n",
       "       0.0279, 0.0115, 0.0073, 0.0036, 0.0043, 0.0026, 0.0083, 0.0052,\n",
       "       0.0054, 0.0071, 0.0309, 0.0009, 0.0311, 0.0032, 0.0063, 0.0009,\n",
       "       0.0014, 0.0097, 0.0063, 0.0106, 0.0136, 0.0092, 0.0045, 0.0067,\n",
       "       0.0011, 0.0108, 0.0393, 0.0003, 0.0064, 0.0035, 0.0018, 0.0118,\n",
       "       0.0154, 0.0297, 0.0138, 0.0237, 0.0045, 0.0011, 0.0016, 0.0041,\n",
       "       0.0002, 0.0147, 0.0103, 0.0014, 0.0169, 0.0126, 0.0002, 0.021 ,\n",
       "       0.0029, 0.01  , 0.0034, 0.0003, 0.0019, 0.0082, 0.0095, 0.0119,\n",
       "       0.0019, 0.0137, 0.0094, 0.017 , 0.0188, 0.0143, 0.0059, 0.004 ,\n",
       "       0.0031, 0.0304, 0.0053, 0.0079, 0.0138, 0.019 , 0.002 , 0.0034,\n",
       "       0.0073, 0.032 , 0.0042, 0.0047, 0.0082, 0.0371, 0.0076, 0.0097,\n",
       "       0.0107, 0.007 , 0.0059, 0.0117, 0.0205, 0.0256, 0.005 , 0.007 ,\n",
       "       0.0015, 0.002 , 0.0013, 0.0022, 0.0139, 0.0029, 0.0029, 0.036 ,\n",
       "       0.0043, 0.0235, 0.009 , 0.0095, 0.0003, 0.0041, 0.016 , 0.0034,\n",
       "       0.0274, 0.0003, 0.01  , 0.0029, 0.0469, 0.0017, 0.002 , 0.0085,\n",
       "       0.0145, 0.0061, 0.0058, 0.0034, 0.0176, 0.0006, 0.0046, 0.0193,\n",
       "       0.0161, 0.0038, 0.011 , 0.0107, 0.0197, 0.0016, 0.0542, 0.0012,\n",
       "       0.0134, 0.0198, 0.0156, 0.005 , 0.0092, 0.0095, 0.0037, 0.0167,\n",
       "       0.0123, 0.0119, 0.0082, 0.0075, 0.0174, 0.0059, 0.0284, 0.005 ,\n",
       "       0.0183, 0.014 , 0.0037, 0.033 , 0.0081, 0.0127, 0.01  , 0.0084,\n",
       "       0.0168, 0.0054, 0.0008, 0.0133, 0.0038, 0.0073, 0.0194, 0.0026,\n",
       "       0.0057, 0.0098, 0.0223, 0.0053, 0.0464, 0.047 , 0.0027, 0.0049,\n",
       "       0.0013, 0.0219, 0.0051, 0.0057, 0.0149, 0.0026, 0.0007, 0.0005,\n",
       "       0.0094, 0.0189, 0.0027, 0.0005, 0.0027, 0.0112, 0.0034, 0.0055,\n",
       "       0.002 , 0.0058, 0.0096, 0.0001, 0.001 , 0.0072, 0.0282, 0.0097,\n",
       "       0.0221, 0.0209, 0.0016, 0.0064, 0.0011, 0.008 , 0.0027, 0.0662,\n",
       "       0.0102, 0.004 , 0.0239, 0.0031, 0.0148, 0.0235, 0.0061, 0.0034,\n",
       "       0.0016, 0.0036, 0.024 , 0.0011, 0.0015, 0.0272, 0.0001, 0.0041,\n",
       "       0.0041, 0.0045, 0.0314, 0.0009, 0.0024, 0.0341, 0.0004, 0.0013,\n",
       "       0.0115, 0.0062, 0.0037, 0.0088, 0.0086, 0.0033, 0.0248, 0.0228,\n",
       "       0.0008, 0.0078, 0.0104, 0.0042, 0.0036, 0.0278, 0.0116, 0.0088,\n",
       "       0.0042, 0.0125, 0.0118, 0.0012, 0.0368, 0.004 , 0.0141, 0.0197,\n",
       "       0.0024, 0.0329, 0.0053, 0.0018, 0.0025, 0.026 , 0.0085, 0.0053,\n",
       "       0.0072, 0.0046, 0.004 , 0.0087, 0.0282, 0.0303, 0.0013, 0.0091,\n",
       "       0.0019, 0.0014, 0.0072, 0.0045, 0.0073, 0.0199, 0.001 , 0.0165,\n",
       "       0.0224, 0.002 , 0.0048, 0.0248, 0.0053, 0.0001, 0.0088, 0.0179,\n",
       "       0.0082, 0.0063, 0.0018, 0.0199, 0.0191, 0.013 , 0.0031, 0.0043,\n",
       "       0.0069, 0.0088, 0.0091, 0.0076, 0.0087, 0.0018, 0.0125, 0.0037,\n",
       "       0.0081, 0.0074, 0.0383, 0.0046, 0.0251, 0.0109, 0.0002, 0.0052,\n",
       "       0.0001, 0.0179, 0.0018, 0.0233, 0.0107, 0.0188, 0.0078, 0.0114,\n",
       "       0.0057, 0.0032, 0.0086, 0.0154, 0.0041, 0.0038, 0.0176, 0.0168,\n",
       "       0.0145, 0.0176, 0.0075, 0.0082, 0.0078, 0.005 , 0.0054, 0.017 ,\n",
       "       0.0082, 0.0003, 0.046 , 0.0134, 0.0008, 0.0157, 0.0032, 0.0062,\n",
       "       0.0047, 0.0052, 0.0039, 0.0197, 0.0003, 0.0062, 0.001 , 0.0074,\n",
       "       0.0144, 0.0026, 0.0024, 0.0228, 0.0154, 0.0118, 0.001 , 0.0118,\n",
       "       0.0115, 0.0207, 0.0133, 0.0024, 0.0186, 0.0095, 0.0222, 0.0156,\n",
       "       0.0343, 0.0071, 0.0229, 0.0024, 0.0011, 0.0009, 0.0036, 0.0213,\n",
       "       0.0023, 0.0005, 0.0012, 0.0051, 0.0004, 0.0029, 0.0011, 0.0023,\n",
       "       0.0029, 0.0133, 0.0059, 0.0008, 0.0064, 0.0015, 0.0323, 0.0169,\n",
       "       0.0101, 0.0076, 0.0028, 0.006 , 0.0041, 0.0042, 0.0125, 0.0155,\n",
       "       0.0084, 0.0014, 0.012 , 0.0163, 0.0087, 0.02  , 0.0244, 0.0165,\n",
       "       0.0064, 0.0063, 0.0153, 0.0196, 0.0011, 0.0138, 0.0025, 0.0049,\n",
       "       0.0034, 0.0021, 0.0003, 0.0141, 0.0144, 0.0086, 0.0062, 0.0323,\n",
       "       0.0014, 0.0004, 0.0032, 0.0015, 0.0033, 0.0001, 0.0022, 0.0172,\n",
       "       0.0009, 0.0013, 0.0352, 0.0001, 0.0335, 0.006 , 0.013 , 0.0036,\n",
       "       0.0028, 0.0014, 0.0041, 0.0155, 0.0046, 0.0002, 0.0157, 0.0224,\n",
       "       0.0043, 0.0104, 0.0067, 0.0553, 0.001 , 0.0008, 0.0162, 0.0025,\n",
       "       0.0141, 0.0035, 0.0023, 0.0005, 0.0106, 0.0131, 0.0154, 0.0056,\n",
       "       0.0011, 0.0017, 0.0034, 0.0152, 0.02  , 0.0002, 0.0008, 0.0092,\n",
       "       0.0025, 0.0003, 0.0076, 0.0022, 0.0045, 0.0091, 0.0083, 0.0138,\n",
       "       0.0067, 0.0001, 0.015 , 0.0018, 0.0035, 0.0061, 0.0008, 0.0185,\n",
       "       0.0088, 0.0024, 0.0005, 0.0155, 0.0305, 0.001 , 0.0029, 0.0131,\n",
       "       0.0008, 0.0028, 0.0345, 0.0026, 0.0004, 0.03  , 0.0226, 0.0058,\n",
       "       0.0093, 0.0227, 0.0144, 0.0076, 0.0033, 0.0062, 0.0182, 0.0001,\n",
       "       0.0052, 0.01  , 0.0041, 0.0179, 0.0063, 0.0102, 0.0165, 0.0028,\n",
       "       0.0255, 0.0156, 0.0058, 0.028 , 0.0029, 0.0352, 0.0142, 0.0042,\n",
       "       0.0007, 0.0135, 0.0151, 0.0049, 0.0193, 0.0032, 0.0191, 0.0174,\n",
       "       0.0103, 0.0021, 0.0017, 0.016 , 0.0009, 0.0047, 0.0086, 0.0041,\n",
       "       0.0039, 0.0005, 0.0173, 0.0157, 0.0003, 0.0046, 0.0004, 0.0035,\n",
       "       0.0067, 0.0057, 0.0027, 0.0261, 0.0024, 0.0142, 0.0407, 0.0086,\n",
       "       0.0116, 0.0086, 0.0014, 0.0052, 0.0038, 0.0216, 0.0054, 0.0063,\n",
       "       0.0104, 0.0031, 0.0105, 0.0169, 0.0234, 0.0138, 0.0071, 0.012 ,\n",
       "       0.0056, 0.0021, 0.0023, 0.012 , 0.0063, 0.027 , 0.0102, 0.0136,\n",
       "       0.0092, 0.0019, 0.0045, 0.0129, 0.0087, 0.0044, 0.0225, 0.0144,\n",
       "       0.0725, 0.0018, 0.0209, 0.0111, 0.0081, 0.0091, 0.0018, 0.0029,\n",
       "       0.0122, 0.0039, 0.0019, 0.0012, 0.0062, 0.0003, 0.0106, 0.0089,\n",
       "       0.0024, 0.0021, 0.0032, 0.0193, 0.0011, 0.0387, 0.0132, 0.004 ,\n",
       "       0.0064, 0.0108, 0.0165, 0.0116, 0.0203, 0.0192, 0.013 , 0.0123,\n",
       "       0.0097, 0.0037, 0.0017, 0.0038, 0.0017, 0.0088, 0.0141, 0.0036,\n",
       "       0.0028, 0.006 , 0.0261, 0.0063, 0.0038, 0.0375, 0.0003, 0.0037,\n",
       "       0.0027, 0.0048, 0.0177, 0.0382, 0.0052, 0.0001, 0.0124, 0.0026,\n",
       "       0.0022, 0.0055, 0.0066, 0.0184, 0.0159, 0.0092, 0.0165, 0.0082,\n",
       "       0.0057, 0.0049, 0.0128, 0.0051, 0.001 , 0.0075, 0.0044, 0.0193,\n",
       "       0.066 , 0.0306, 0.0129, 0.001 , 0.0065, 0.0033, 0.0008, 0.0109,\n",
       "       0.0262, 0.0119, 0.0139, 0.0156, 0.0007, 0.0173, 0.0158, 0.0318,\n",
       "       0.0003, 0.006 , 0.0044, 0.0033, 0.006 , 0.0069, 0.0014, 0.0019,\n",
       "       0.0236, 0.0117, 0.0094, 0.0036, 0.0052, 0.0045, 0.0003, 0.0068,\n",
       "       0.0165, 0.0046, 0.0005, 0.0008, 0.0063, 0.0787, 0.0007, 0.0112,\n",
       "       0.0066, 0.0015, 0.0159, 0.0109, 0.0106, 0.0008, 0.0013, 0.0008,\n",
       "       0.0105, 0.0193, 0.0074, 0.0014, 0.0018, 0.0028, 0.0066, 0.01  ,\n",
       "       0.0089, 0.0034, 0.0087, 0.0058, 0.0063, 0.0027, 0.0006, 0.0556,\n",
       "       0.0287, 0.002 , 0.0009, 0.0107, 0.013 , 0.0139, 0.016 , 0.0042,\n",
       "       0.0063, 0.0007, 0.0505, 0.0072, 0.0078, 0.0025, 0.0028, 0.0048,\n",
       "       0.0129, 0.0061, 0.0026, 0.0015, 0.0041, 0.014 , 0.0014, 0.0099,\n",
       "       0.0047, 0.0014, 0.0141, 0.0063, 0.004 , 0.0006, 0.0087, 0.0066,\n",
       "       0.0138, 0.0112, 0.0069, 0.0103, 0.001 , 0.0053, 0.0029, 0.0008,\n",
       "       0.01  , 0.018 , 0.0177, 0.016 , 0.0008, 0.0017, 0.0204, 0.0006,\n",
       "       0.0019, 0.0352, 0.0241, 0.0128, 0.0057, 0.0433, 0.0037, 0.0002,\n",
       "       0.0087, 0.0229, 0.0137, 0.0222, 0.0082, 0.0004, 0.0151, 0.0225,\n",
       "       0.0141, 0.0033, 0.003 , 0.004 , 0.0037, 0.0069, 0.0031, 0.0032,\n",
       "       0.0231, 0.0014, 0.0122, 0.0016, 0.0062, 0.0301, 0.0067, 0.0103,\n",
       "       0.018 , 0.0021, 0.0091, 0.0119, 0.003 , 0.0018, 0.0116, 0.0271])"
      ]
     },
     "execution_count": 224,
     "metadata": {},
     "output_type": "execute_result"
    }
   ],
   "source": [
    "ISI"
   ]
  },
  {
   "cell_type": "code",
   "execution_count": null,
   "metadata": {},
   "outputs": [],
   "source": []
  }
 ],
 "metadata": {
  "interpreter": {
   "hash": "4aedca058b4155234967fa3da88bf0b29abe2f47d758f3debe6af85bc2e061a5"
  },
  "kernelspec": {
   "display_name": "Python 3.7.10 64-bit ('base': conda)",
   "name": "python3"
  },
  "language_info": {
   "codemirror_mode": {
    "name": "ipython",
    "version": 3
   },
   "file_extension": ".py",
   "mimetype": "text/x-python",
   "name": "python",
   "nbconvert_exporter": "python",
   "pygments_lexer": "ipython3",
   "version": "3.7.10"
  }
 },
 "nbformat": 4,
 "nbformat_minor": 2
}
