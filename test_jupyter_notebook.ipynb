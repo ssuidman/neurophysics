{
 "cells": [
  {
   "cell_type": "code",
   "execution_count": 223,
   "metadata": {},
   "outputs": [
    {
     "name": "stdout",
     "output_type": "stream",
     "text": [
      "create V with N = 316251 states\n",
      "t = 50 0.5349 sec for 22100 states\n",
      "t = 49 0.5783 sec for 20825 states\n",
      "t = 48 0.5226 sec for 19600 states\n",
      "t = 47 0.4737 sec for 18424 states\n",
      "t = 46 0.4399 sec for 17296 states\n",
      "t = 45 0.4209 sec for 16215 states\n",
      "t = 44 0.379 sec for 15180 states\n",
      "t = 43 0.3935 sec for 14190 states\n",
      "t = 42 0.3623 sec for 13244 states\n",
      "t = 41 0.3386 sec for 12341 states\n",
      "t = 40 0.3204 sec for 11480 states\n",
      "t = 39 0.267 sec for 10660 states\n",
      "t = 38 0.2585 sec for 9880 states\n",
      "t = 37 0.253 sec for 9139 states\n",
      "t = 36 0.2117 sec for 8436 states\n",
      "t = 35 0.1882 sec for 7770 states\n",
      "t = 34 0.1865 sec for 7140 states\n",
      "t = 33 0.1681 sec for 6545 states\n",
      "t = 32 0.1496 sec for 5984 states\n",
      "t = 31 0.1238 sec for 5456 states\n",
      "t = 30 0.1298 sec for 4960 states\n",
      "t = 29 0.1099 sec for 4495 states\n",
      "t = 28 0.1089 sec for 4060 states\n",
      "t = 27 0.0904 sec for 3654 states\n",
      "t = 26 0.0824 sec for 3276 states\n",
      "t = 25 0.075 sec for 2925 states\n",
      "t = 24 0.0654 sec for 2600 states\n",
      "t = 23 0.0638 sec for 2300 states\n",
      "t = 22 0.0498 sec for 2024 states\n",
      "t = 21 0.0449 sec for 1771 states\n",
      "t = 20 0.0421 sec for 1540 states\n",
      "t = 19 0.0383 sec for 1330 states\n",
      "t = 18 0.035 sec for 1140 states\n",
      "t = 17 0.0251 sec for 969 states\n",
      "t = 16 0.0213 sec for 816 states\n",
      "t = 15 0.0177 sec for 680 states\n",
      "t = 14 0.0183 sec for 560 states\n",
      "t = 13 0.0117 sec for 455 states\n",
      "t = 12 0.0129 sec for 364 states\n",
      "t = 11 0.0082 sec for 286 states\n",
      "t = 10 0.0045 sec for 220 states\n",
      "t = 9 0.0034 sec for 165 states\n",
      "t = 8 0.0027 sec for 120 states\n",
      "t = 7 0.0028 sec for 84 states\n",
      "t = 6 0.0014 sec for 56 states\n",
      "t = 5 0.0008 sec for 35 states\n",
      "t = 4 0.0005 sec for 20 states\n",
      "t = 3 0.0003 sec for 10 states\n",
      "t = 2 0.0001 sec for 4 states\n",
      "t = 1 0.0 sec for 1 states\n",
      "t = 0 0.0 sec for 0 states\n"
     ]
    },
    {
     "name": "stderr",
     "output_type": "stream",
     "text": [
      "100%|██████████| 100/100 [00:03<00:00, 25.06it/s]\n"
     ]
    },
    {
     "data": {
      "image/png": "[encoded data removed]",
      "text/plain": [
       "<Figure size 432x288 with 1 Axes>"
      ]
     },
     "metadata": {
      "needs_background": "light"
     },
     "output_type": "display_data"
    },
    {
     "data": {
      "image/png": "[encoded data removed]",
      "text/plain": [
       "<Figure size 432x288 with 3 Axes>"
      ]
     },
     "metadata": {
      "needs_background": "light"
     },
     "output_type": "display_data"
    }
   ],
   "source": [
    "import numpy as np\n",
    "import matplotlib.pyplot as plt\n",
    "from time import time\n",
    "from tqdm import tqdm\n",
    "\n",
    "def p(n,w): # calculate expected probability from drawings and payoffs for a machine\n",
    "    return (w+1)/(n+2)\n",
    "\n",
    "def get_V(h):\n",
    "    t_array = np.zeros(h)\n",
    "    V = np.zeros([h+1,h+1,h+1,h+1])\n",
    "    print('create V with N =',int((h**4+10*h**3+35*h**2+50*h+24)/24),'states')\n",
    "    t1 = time()\n",
    "    counts = np.zeros(h)\n",
    "    count = 0\n",
    "    for n1 in range(h): # look at all states at a certain time\n",
    "        n2 = h-1-n1 # (n1,n2) = (10,0),(9,1),(8,2),...,(9,0),(8,1),(7,2),...,(8,0),(7,1),...,...(0,1),(1,0),(0,0) --> state (0,0) can maybe cause problems       \n",
    "        for w1 in range(n1+1):\n",
    "            for w2 in range(n2+1):\n",
    "                count += 1\n",
    "                V[n1,w1,n2,w2] = np.max([p(n1,w1),p(n2,w2)])\n",
    "    t2 = time()\n",
    "    print('t =',h,round(t2-t1,4),'sec for',count,'states')\n",
    "    t_array[h-1] = t2-t1\n",
    "\n",
    "    # for t in tqdm(range(h)[::-1]): # look at all time points \n",
    "    for t in range(h)[::-1]: # look at all time points \n",
    "        count = 0\n",
    "        t1 = time()\n",
    "        for n1 in range(t+1): # look at all states at a certain time\n",
    "            n2 = t-1-n1 # (n1,n2) = (10,0),(9,1),(8,2),...,(9,0),(8,1),(7,2),...,(8,0),(7,1),...,...(0,1),(1,0),(0,0) --> state (0,0) can maybe cause problems       \n",
    "            for w1 in range(n1+1):\n",
    "                for w2 in range(n2+1):\n",
    "                    count += 1\n",
    "                    value1 = p(n1,w1)*(1+V[n1+1,w1+1,n2,w2])+(1-p(n1,w1))*V[n1+1,w1,n2,w2]\n",
    "                    value2 = p(n2,w2)*(1+V[n1,w1,n2+1,w2+1])+(1-p(n2,w2))*V[n1,w1,n2+1,w2]\n",
    "                    V[n1,w1,n2,w2] = np.max([value1,value2],axis=0)\n",
    "        t2 = time()\n",
    "        print('t =',t,round(t2-t1,4),'sec for',count,'states')\n",
    "        t_array[h-1-t] = t2-t1\n",
    "        counts[h-1-t] = count\n",
    "    return V,t_array,counts\n",
    "\n",
    "def two_armed_bandit(V,p1,p2):\n",
    "    h = np.where(V!=0)[0][-1]+1\n",
    "    # initialize values before drawing\n",
    "    n1,w1,n2,w2 = 0,0,0,0 # initialize states\n",
    "    states = np.zeros([h+1,4]) # state matrix\n",
    "\n",
    "    for i in range(1,h+1): # first state is all zeros, from there fill in the matrix\n",
    "        value1 = p(n1,w1)*(1+V[n1+1,w1+1,n2,w2])+(1-p(n1,w1))*V[n1+1,w1,n2,w2]\n",
    "        value2 = p(n2,w2)*(1+V[n1,w1,n2+1,w2+1])+(1-p(n2,w2))*V[n1,w1,n2+1,w2]\n",
    "        machine =  np.argmax([value1,value2]) + 1\n",
    "        if machine==1:\n",
    "            n1 += 1\n",
    "            if np.random.rand()<p1:\n",
    "                w1 += 1\n",
    "        else:\n",
    "            n2 += 1\n",
    "            if np.random.rand()<p2:\n",
    "                w2 += 1\n",
    "        states[i] = n1,w1,n2,w2\n",
    "        w = w1+w2\n",
    "    return states,w\n",
    "\n",
    "h = 50\n",
    "p1,p2 = 0.6,0.8 # probability that machine pays off 1 \n",
    "\n",
    "V,t,counts = get_V(h)\n",
    "\n",
    "if h>20: # time plot of iterations\n",
    "    t2 = np.linspace(0,h,len(t[:-1]))\n",
    "    fig,ax = plt.subplots()\n",
    "    ax.plot(np.arange(h)[::-1],t,label='measured time')\n",
    "    ax.plot(t2,np.mean(t[:-int(h/2)]/counts[:-int(h/2)])*(1/6*t2**3+t2**2+11/6*t2+1),label='estimated time')\n",
    "    ax.set_xlabel('iteration t')\n",
    "    ax.set_ylabel('time per iteration t')\n",
    "    ax.set_xticks(np.arange(0,h,int(h/10)))\n",
    "    ax.set_xlim([0,h-5])\n",
    "    ax.legend()\n",
    "\n",
    "if h<10: # print all V values\n",
    "    print('All states:')\n",
    "    for i in np.transpose(np.where(V!=0)):\n",
    "        print('({}{}{}{})={:.2f}'.format(i[0],i[1],i[2],i[3],np.round(V[i[0],i[1],i[2],i[3]],2)),end=\" \")\n",
    "\n",
    "if h>30: # plot estimated p1,p2 and profit\n",
    "    runs = 100\n",
    "    w_array = np.zeros(runs)\n",
    "    all_states = np.zeros([runs,4])\n",
    "    for i in tqdm(range(runs)):\n",
    "        states,w_array[i] = two_armed_bandit(V,p1,p2)\n",
    "        all_states[i] = states[-1]\n",
    "    p1_estimates = all_states[:,1]/np.where(all_states[:,0]==0,1,all_states[:,0])\n",
    "    p2_estimates = all_states[:,3]/np.where(all_states[:,2]==0,1,all_states[:,2])\n",
    "\n",
    "    fig,ax = plt.subplots(ncols=3)    \n",
    "    ax[0].hist(p1_estimates[np.where(p1_estimates!=0)],bins=30,density=True)\n",
    "    ax[0].set_xlabel('p1 estimation')\n",
    "    ax[1].hist(p2_estimates[np.where(p2_estimates!=0)],bins=30,density=True)\n",
    "    ax[1].set_xlabel('p2 estimation')\n",
    "    ax[2].hist(w_array,bins=30,density=True)\n",
    "    ax[2].set_xlabel('total profit')\n",
    "    fig.suptitle('Histogram of {} runs, h={}, p1={}, p2={}'.format(runs,h,p1,p2))\n",
    "    fig.tight_layout()\n"
   ]
  },
  {
   "cell_type": "code",
   "execution_count": null,
   "metadata": {},
   "outputs": [],
   "source": []
  }
 ],
 "metadata": {
  "interpreter": {
   "hash": "4aedca058b4155234967fa3da88bf0b29abe2f47d758f3debe6af85bc2e061a5"
  },
  "kernelspec": {
   "display_name": "Python 3",
   "language": "python",
   "name": "python3"
  },
  "language_info": {
   "codemirror_mode": {
    "name": "ipython",
    "version": 3
   },
   "file_extension": ".py",
   "mimetype": "text/x-python",
   "name": "python",
   "nbconvert_exporter": "python",
   "pygments_lexer": "ipython3",
   "version": "3.7.11"
  }
 },
 "nbformat": 4,
 "nbformat_minor": 2
}
