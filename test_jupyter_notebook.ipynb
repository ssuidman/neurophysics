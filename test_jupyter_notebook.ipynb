{
 "cells": [
  {
   "cell_type": "code",
   "execution_count": 1,
   "metadata": {},
   "outputs": [],
   "source": [
    "import numpy as np\n",
    "import matplotlib.pyplot as plt\n",
    "import pandas as pd"
   ]
  },
  {
   "cell_type": "code",
   "execution_count": 399,
   "metadata": {},
   "outputs": [
    {
     "data": {
      "text/plain": [
       "0.7222222222222222"
      ]
     },
     "execution_count": 399,
     "metadata": {},
     "output_type": "execute_result"
    }
   ],
   "source": [
    "# Bellman equations to calculate all backward values \n",
    "\n",
    "def create_states(h):\n",
    "    N = int((h**4+10*h**3+35*h**2+50*h+24)/24) # total amount of possible states evaluated from 4 double sums \n",
    "    all_states = np.zeros([N,5],dtype=int) # empty array of len V_len\n",
    "    index_df = {}\n",
    "    count = 0\n",
    "    for t in range(h+1): # look at all time points \n",
    "        for n1 in range(t+1): # look at all states at a certain time\n",
    "            n2 = t-n1 # (n1,n2) = (10,0),(9,1),(8,2),...,(9,0),(8,1),(7,2),...,(8,0),(7,1),...,...(0,1),(1,0),(0,0) --> state (0,0) can maybe cause problems       \n",
    "            for w1 in range(n1+1):\n",
    "                for w2 in range(n2+1):\n",
    "                    all_states[count] = t,n1,w1,n2,w2\n",
    "                    index_df[(n1,w1,n2,w2)] = count\n",
    "                    count += 1\n",
    "    index_df = pd.DataFrame([index_df])\n",
    "    return all_states,index_df\n",
    "\n",
    "def get_index(index_array,index_df):\n",
    "    index_array = np.array(index_array)\n",
    "    if index_array.ndim==1:\n",
    "        i = index_df[tuple(index_array)].values[0]\n",
    "    else:\n",
    "        i = index_df[pd.Index(tuple(map(tuple,index_array)))].values[0]\n",
    "    return i\n",
    "\n",
    "def p(n,w): # calculate expected probability from drawings and payoffs for a machine\n",
    "    return (w+1)/(n+2)\n",
    "\n",
    "def get_V(all_states,index_df):\n",
    "    N = all_states.shape[0]\n",
    "    V = np.zeros(N)\n",
    "\n",
    "    i = np.where(all_states[:,0]==h-1) # do \"last\" step before the rest, because V is calculated from p1,p2 only\n",
    "    t_states = all_states[i][:,1:]\n",
    "    n1,w1,n2,w2 = t_states[:,0],t_states[:,1],t_states[:,2],t_states[:,3]\n",
    "    p1,p2 = p(n1,w1),p(n2,w2)\n",
    "    V[i] = np.max([p1,p2],axis=0)\n",
    "\n",
    "    for t in range(h-1)[::-1]: \n",
    "        i = np.where(all_states[:,0]==t)\n",
    "        t_states = all_states[i][:,1:]\n",
    "        n1,w1,n2,w2 = t_states[:,0],t_states[:,1],t_states[:,2],t_states[:,3]\n",
    "        V1 = get_index(t_states+np.array([1,1,0,0]),index_df)\n",
    "        V2 = get_index(t_states+np.array([1,0,0,0]),index_df)\n",
    "        V3 = get_index(t_states+np.array([0,0,1,1]),index_df)\n",
    "        V4 = get_index(t_states+np.array([0,0,1,0]),index_df)\n",
    "        value1 = p(n1,w1)*(1+V[V1])+(1-p(n1,w1))*V[V2]\n",
    "        value2 = p(n2,w2)*(1+V[V3])+(1-p(n2,w2))*V[V4]\n",
    "        V[i] = np.max([value1,value2],axis=0)\n",
    "    return V\n",
    "\n",
    "h = 4\n",
    "all_states,index_df = create_states(h)\n",
    "V = get_V(all_states,index_df)\n",
    "V[index_df[(1,0,1,0)].values[0]]"
   ]
  },
  {
   "cell_type": "code",
   "execution_count": 400,
   "metadata": {},
   "outputs": [
    {
     "data": {
      "text/plain": [
       "array([[0., 0., 0., 0.],\n",
       "       [1., 0., 0., 0.],\n",
       "       [1., 0., 1., 0.],\n",
       "       [2., 1., 1., 0.],\n",
       "       [3., 1., 1., 0.],\n",
       "       [4., 2., 1., 0.],\n",
       "       [5., 3., 1., 0.],\n",
       "       [6., 4., 1., 0.],\n",
       "       [7., 4., 1., 0.],\n",
       "       [8., 4., 1., 0.],\n",
       "       [9., 4., 1., 0.]])"
      ]
     },
     "execution_count": 400,
     "metadata": {},
     "output_type": "execute_result"
    }
   ],
   "source": [
    "h = 10\n",
    "all_states,index_df = create_states(h)\n",
    "V = get_V(all_states,index_df)\n",
    "# initialize values before drawing\n",
    "p1,p2 = 0.5,0.5 # probability of machine 1,2 for payoff 1\n",
    "n1,w1,n2,w2 = 0,0,0,0 # initialize states\n",
    "states = np.zeros([h+1,4]) # state matrix\n",
    "\n",
    "for i in range(1,h+1): # first state is all zeros, from there fill in the matrix\n",
    "    V1 = get_index([n1+1,w1+1,n2,w2],index_df)\n",
    "    V2 = get_index([n1+1,w1,n2,w2],index_df)\n",
    "    V3 = get_index([n1,w1,n2+1,w2+1],index_df)\n",
    "    V4 = get_index([n1,w1,n2+1,w2],index_df)\n",
    "    value1 = p(n1,w1)*(1+V[V1])+(1-p(n1,w1))*V[V2]\n",
    "    value2 = p(n2,w2)*(1+V[V3])+(1-p(n2,w2))*V[V4]\n",
    "    machine =  np.argmax([value1,value2]) + 1\n",
    "    if machine==1:\n",
    "        n1 += 1\n",
    "        if np.random.rand()<p1:\n",
    "            w1 += 1\n",
    "    else:\n",
    "        n2 += 1\n",
    "        if np.random.rand()<p2:\n",
    "            w2 += 1\n",
    "    states[i] = n1,w1,n2,w2\n",
    "states\n",
    "\n"
   ]
  },
  {
   "cell_type": "code",
   "execution_count": null,
   "metadata": {},
   "outputs": [],
   "source": []
  },
  {
   "cell_type": "code",
   "execution_count": null,
   "metadata": {},
   "outputs": [],
   "source": []
  }
 ],
 "metadata": {
  "interpreter": {
   "hash": "4aedca058b4155234967fa3da88bf0b29abe2f47d758f3debe6af85bc2e061a5"
  },
  "kernelspec": {
   "display_name": "Python 3",
   "language": "python",
   "name": "python3"
  },
  "language_info": {
   "codemirror_mode": {
    "name": "ipython",
    "version": 3
   },
   "file_extension": ".py",
   "mimetype": "text/x-python",
   "name": "python",
   "nbconvert_exporter": "python",
   "pygments_lexer": "ipython3",
   "version": "3.7.11"
  }
 },
 "nbformat": 4,
 "nbformat_minor": 2
}
