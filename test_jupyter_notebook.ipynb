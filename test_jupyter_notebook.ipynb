{
 "cells": [
  {
   "cell_type": "code",
   "execution_count": 38,
   "metadata": {},
   "outputs": [],
   "source": [
    "import numpy as np\n",
    "import matplotlib.pyplot as plt\n",
    "import pandas as pd\n",
    "from scipy.io import loadmat\n",
    "\n",
    "\n",
    "file = loadmat('/Users/samsuidman/Desktop/neurophysics/machine_learning/mnistAll.mat') \n",
    "\n",
    "train_images = file['mnist']['train_images'][0][0]\n",
    "test_images = file['mnist']['test_images'][0][0]\n",
    "train_labels = file['mnist']['train_labels'][0][0].transpose()[0]\n",
    "test_labels = file['mnist']['test_labels'][0][0].transpose()[0]\n",
    "\n",
    "\n",
    "indices_3 = np.where(train_labels==3)[0]\n",
    "indices_7 = np.where(train_labels==7)[0]\n",
    "X3 = train_images[:,:,indices_3]\n",
    "X7 = train_images[:,:,indices_7]\n",
    "n3 = np.size(X3,2)\n",
    "n7 = np.size(X7,2)\n",
    "X3 = np.reshape(X3,[784,n3])\n",
    "X7 = np.reshape(X7,[784,n7])\n",
    "X3 = X3/np.max((np.max(np.concatenate(X3)),np.max(np.concatenate(X7))))\n",
    "X7 = X7/np.max((np.max(np.concatenate(X3)),np.max(np.concatenate(X7))))\n",
    "\n",
    "#These are the important matrices and arrays in the end. X3 consists of P=6131 images of the number 3. X[3] for example is the 4th image. Each image has 28x28=784 pixels. To make sure that an image doesn't only consists of zeros, before each image is a 1 added. \n",
    "X3 = (np.insert(X3,0,1,axis=0)).transpose() #shape = (6131,785)\n",
    "X7 = (np.insert(X3,0,1,axis=0)).transpose() #shape = (6265,785)\n",
    "t3 = np.zeros([1,n3])[0] #length = 6131\n",
    "t7 = np.ones([1,n7])[0] #length = 6265\n",
    "\n",
    "\n",
    "#these are the functions that are defined in the exercise \n",
    "\n",
    "def y(w,X): #this function takes a random w and a matrix with N patterns and d dimensions (in our case 785 pixels in total) and returns an array that contains for each pattern the probability that the number is a 3 (or 7)\n",
    "    y = np.array([1/(1+np.exp(-np.dot(w,x))) for x in X])\n",
    "    return y \n",
    "\n",
    "def E(w,X,t): #Return the error for w,X and the actual value 3,7 (so actual 1,0)\n",
    "    y0 = y(w,X)\n",
    "    Ew = -np.sum(t*np.log(y0)+(1-t)*np.log(1-y0))/len(X)\n",
    "    return Ew\n",
    "\n",
    "def dE(w,X,t): #gradient for w,X,t\n",
    "    y0 = y(w,X)\n",
    "    dE = np.matmul((y0-t),X)/len(X)\n",
    "    return dE\n",
    "\n",
    "def H(w,X,t): #Hessian for w,X,t\n",
    "    y0 = y(w,X) \n",
    "    X_y = np.multiply(X.transpose(),t).transpose() #multiply each pattern in X by the y value of that pattern. This results in a matrix. \n",
    "    H = np.matmul(X_y.transpose(),X) #multiply this X*y times X, and sum over all patterns. The new shape is then (785,785)\n",
    "    return H\n",
    "\n",
    "\n",
    "w = np.random.normal(0,1,size=X3.shape[1])\n",
    "t = np.random.randint(2,size=X3.shape[0])\n",
    "\n"
   ]
  },
  {
   "cell_type": "code",
   "execution_count": null,
   "metadata": {},
   "outputs": [],
   "source": []
  },
  {
   "cell_type": "code",
   "execution_count": null,
   "metadata": {},
   "outputs": [],
   "source": []
  }
 ],
 "metadata": {
  "interpreter": {
   "hash": "084e3a489dfecdb25179b04f2c4d3bdc463fde1474fe48f372e120a0e4511f12"
  },
  "kernelspec": {
   "display_name": "Python 3.7.10 64-bit ('base': conda)",
   "name": "python3"
  },
  "language_info": {
   "codemirror_mode": {
    "name": "ipython",
    "version": 3
   },
   "file_extension": ".py",
   "mimetype": "text/x-python",
   "name": "python",
   "nbconvert_exporter": "python",
   "pygments_lexer": "ipython3",
   "version": "3.7.10"
  }
 },
 "nbformat": 4,
 "nbformat_minor": 2
}
