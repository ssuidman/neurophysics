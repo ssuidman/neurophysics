{
 "cells": [
  {
   "cell_type": "code",
   "execution_count": 142,
   "metadata": {},
   "outputs": [
    {
     "name": "stdout",
     "output_type": "stream",
     "text": [
      "0 0\n",
      "0 50\n",
      "0 100\n",
      "0 150\n",
      "1 0\n",
      "1 50\n",
      "1 100\n",
      "1 150\n",
      "2 0\n",
      "2 50\n",
      "2 100\n",
      "2 150\n",
      "3 0\n",
      "3 50\n",
      "3 100\n",
      "3 150\n",
      "4 0\n",
      "4 50\n",
      "4 100\n",
      "4 150\n",
      "5 0\n",
      "5 50\n",
      "5 100\n",
      "5 150\n",
      "6 0\n",
      "6 50\n",
      "6 100\n",
      "6 150\n",
      "7 0\n",
      "7 50\n",
      "7 100\n",
      "7 150\n",
      "8 0\n",
      "8 50\n",
      "8 100\n",
      "8 150\n",
      "9 0\n",
      "9 50\n",
      "9 100\n",
      "9 150\n",
      "10 0\n",
      "10 50\n",
      "10 100\n",
      "10 150\n",
      "11 0\n",
      "11 50\n",
      "11 100\n",
      "11 150\n",
      "12 0\n",
      "12 50\n",
      "12 100\n",
      "12 150\n",
      "13 0\n",
      "13 50\n",
      "13 100\n",
      "13 150\n",
      "14 0\n",
      "14 50\n",
      "14 100\n",
      "14 150\n",
      "15 0\n",
      "15 50\n",
      "15 100\n",
      "15 150\n",
      "16 0\n",
      "16 50\n",
      "16 100\n",
      "16 150\n",
      "17 0\n",
      "17 50\n",
      "17 100\n",
      "17 150\n",
      "18 0\n",
      "18 50\n",
      "18 100\n",
      "18 150\n",
      "19 0\n",
      "19 50\n",
      "19 100\n",
      "19 150\n",
      "20 0\n",
      "20 50\n",
      "20 100\n",
      "20 150\n",
      "21 0\n",
      "21 50\n",
      "21 100\n",
      "21 150\n",
      "22 0\n",
      "22 50\n",
      "22 100\n",
      "22 150\n",
      "23 0\n",
      "23 50\n",
      "23 100\n",
      "23 150\n"
     ]
    }
   ],
   "source": [
    "N,pxl = 25, 200\n",
    "# X,Y,R = -0.151606, 0.907705, 0.000001\n",
    "X = -0.04524074130409\n",
    "Y = 0.9868162207157852\n",
    "R = 6.8e-14\n",
    "ranges = np.zeros([N,4])\n",
    "mandelbrot_sets = np.zeros([N-1,pxl,pxl])\n",
    "\n",
    "for i in range(N):\n",
    "    ranges[i] = X-R**(i/N),X+R**(i/N),Y-R**(i/N),Y+R**(i/N) \n",
    "\n",
    "for i in range(N-1):\n",
    "    x0,x1,y0,y1 = ranges[i]\n",
    "    x0_new,x1_new,y0_new,y1_new = ranges[i+1]\n",
    "    x_range = np.linspace(x0,x1,pxl)\n",
    "    y_range = np.linspace(y0,y1,pxl)[::-1]\n",
    "\n",
    "    mandelbrot_set = np.zeros([pxl,pxl])\n",
    "    for m,x in enumerate(x_range):\n",
    "        if m%50==0:\n",
    "            print(i,m)\n",
    "        for n,y in enumerate(y_range):\n",
    "            c = x+y*1j\n",
    "            z = 0\n",
    "            count = 0\n",
    "            while np.abs(z)<2:\n",
    "                z = z**2 + c\n",
    "                count += 1\n",
    "                if count > 100:\n",
    "                    break\n",
    "            mandelbrot_set[m][n] = count\n",
    "            if count > 100:\n",
    "                mandelbrot_set[m][n] = 0   \n",
    "    \n",
    "    mandelbrot_sets[i] = np.transpose(mandelbrot_set)\n",
    "\n",
    "\n"
   ]
  },
  {
   "cell_type": "code",
   "execution_count": 143,
   "metadata": {},
   "outputs": [
    {
     "data": {
      "application/vnd.jupyter.widget-view+json": {
       "model_id": "d3a333b53eca4de28c2bde3a41aae7b7",
       "version_major": 2,
       "version_minor": 0
      },
      "text/plain": [
       "interactive(children=(IntSlider(value=0, description='i', max=23), Output()), _dom_classes=('widget-interact',…"
      ]
     },
     "metadata": {},
     "output_type": "display_data"
    },
    {
     "data": {
      "text/plain": [
       "<function __main__.animate(i)>"
      ]
     },
     "execution_count": 143,
     "metadata": {},
     "output_type": "execute_result"
    }
   ],
   "source": [
    "from ipywidgets import interact, IntSlider\n",
    "\n",
    "def animate(i):\n",
    "    plt.imshow(mandelbrot_sets[i])\n",
    "\n",
    "interact(animate, i = IntSlider(min=0, max=N-2, value=0))"
   ]
  },
  {
   "cell_type": "code",
   "execution_count": 141,
   "metadata": {},
   "outputs": [
    {
     "data": {
      "text/plain": [
       "0.0"
      ]
     },
     "execution_count": 141,
     "metadata": {},
     "output_type": "execute_result"
    }
   ],
   "source": [
    "np.max(mandelbrot_sets[30])"
   ]
  },
  {
   "cell_type": "code",
   "execution_count": null,
   "metadata": {},
   "outputs": [],
   "source": []
  }
 ],
 "metadata": {
  "interpreter": {
   "hash": "4aedca058b4155234967fa3da88bf0b29abe2f47d758f3debe6af85bc2e061a5"
  },
  "kernelspec": {
   "display_name": "Python 3",
   "language": "python",
   "name": "python3"
  },
  "language_info": {
   "codemirror_mode": {
    "name": "ipython",
    "version": 3
   },
   "file_extension": ".py",
   "mimetype": "text/x-python",
   "name": "python",
   "nbconvert_exporter": "python",
   "pygments_lexer": "ipython3",
   "version": "3.7.11"
  }
 },
 "nbformat": 4,
 "nbformat_minor": 2
}
