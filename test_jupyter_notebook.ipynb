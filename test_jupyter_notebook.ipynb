{
 "cells": [
  {
   "cell_type": "code",
   "execution_count": 1,
   "metadata": {},
   "outputs": [],
   "source": [
    "import sympy\n",
    "from einsteinpy.symbolic import MetricTensor, ChristoffelSymbols, RiemannCurvatureTensor, RicciTensor, RicciScalar\n",
    "sympy.init_printing()  # enables the best printing available in an environment\n",
    "from sympy import simplify\n",
    "\n",
    "#fill in metric\n",
    "t,r,theta,phi,G,M,A = sympy.symbols('t r θ φ G M A') #define symbols\n",
    "nu = sympy.Function('ν')(r)\n",
    "mu = sympy.Function('μ')(r)\n",
    "#A = 0\n",
    "#G = 1\n",
    "#M = 1\n",
    "mu = -sympy.log(1-2*G*M/r-1/3*r**2*A)\n",
    "nu = -mu\n",
    "metric_list = [[0 for i in range(4)] for i in range(4)] #create empty matrix\n",
    "metric_list[0][0] = -sympy.exp(nu) #fill in the matrix (of the metric) with the symbols\n",
    "metric_list[1][1] = sympy.exp(mu)\n",
    "metric_list[2][2] = r**2\n",
    "metric_list[3][3] = r**2*sympy.sin(theta)**2\n",
    "# creating metric object\n",
    "metric = MetricTensor(metric_list,[t,r,theta,phi]) #create metric from matrix (list-type object) and define what symbols are actually variables (so dt,dx,dy,dz)\n",
    "metric.tensor() #metric.tensor() to show the tensor. metric.inv() to get inverse metric and metric.inv().tensor() to show inverse metric as tensor\n",
    "\n",
    "#calculating other tensors starting with metric \n",
    "christoffel_symbols = ChristoffelSymbols.from_metric(metric)\n",
    "riemann_tensor = RiemannCurvatureTensor.from_christoffels(christoffel_symbols) #=R[pho][sigma][mu][nu]\n",
    "ricci_tensor = RicciTensor.from_riemann(riemann_tensor)\n",
    "ricci_scalar = RicciScalar.from_riccitensor(ricci_tensor) #can also calculate it directly from metric, but if you want all objects then this is faster.\n",
    "\n",
    "#To simplify expression you can do\n",
    "#simplify(christoffel_symbols.tensor())\n",
    "\n",
    "\n",
    "\n",
    "#Example runnning\n",
    "#from einsteinpy.plotting import GeodesicPlotter\n",
    "#from einsteinpy.examples import perihelion\n",
    "#a = GeodesicPlotter()\n",
    "#a.plot(perihelion())\n",
    "#a.show()"
   ]
  },
  {
   "cell_type": "code",
   "execution_count": 2,
   "metadata": {},
   "outputs": [
    {
     "data": {
      "text/latex": [
       "$\\displaystyle \\left[\\begin{matrix}0.333333333333333 A r^{2} + \\frac{2 G M}{r} - 1 & 0 & 0 & 0\\\\0 & \\frac{1}{- 0.333333333333333 A r^{2} - \\frac{2 G M}{r} + 1} & 0 & 0\\\\0 & 0 & r^{2} & 0\\\\0 & 0 & 0 & r^{2} \\sin^{2}{\\left(θ \\right)}\\end{matrix}\\right]$"
      ],
      "text/plain": [
       "⎡                     2   2⋅G⋅M                                               \n",
       "⎢0.333333333333333⋅A⋅r  + ───── - 1                   0                    0  \n",
       "⎢                           r                                                 \n",
       "⎢                                                                             \n",
       "⎢                                                     1                       \n",
       "⎢                0                   ────────────────────────────────────  0  \n",
       "⎢                                                           2   2⋅G⋅M         \n",
       "⎢                                    - 0.333333333333333⋅A⋅r  - ───── + 1     \n",
       "⎢                                                                 r           \n",
       "⎢                                                                             \n",
       "⎢                                                                           2 \n",
       "⎢                0                                    0                    r  \n",
       "⎢                                                                             \n",
       "⎢                                                                             \n",
       "⎣                0                                    0                    0  \n",
       "\n",
       "           ⎤\n",
       "     0     ⎥\n",
       "           ⎥\n",
       "           ⎥\n",
       "           ⎥\n",
       "     0     ⎥\n",
       "           ⎥\n",
       "           ⎥\n",
       "           ⎥\n",
       "           ⎥\n",
       "           ⎥\n",
       "     0     ⎥\n",
       "           ⎥\n",
       "  2    2   ⎥\n",
       " r ⋅sin (θ)⎦"
      ]
     },
     "execution_count": 2,
     "metadata": {},
     "output_type": "execute_result"
    }
   ],
   "source": [
    "metric.tensor()"
   ]
  },
  {
   "cell_type": "code",
   "execution_count": 3,
   "metadata": {},
   "outputs": [
    {
     "data": {
      "image/png": "[encoded data removed]",
      "text/latex": [
       "$\\displaystyle 4.0 A$"
      ],
      "text/plain": [
       "4.0⋅A"
      ]
     },
     "execution_count": 3,
     "metadata": {},
     "output_type": "execute_result"
    }
   ],
   "source": [
    "ricci_scalar.tensor()"
   ]
  },
  {
   "cell_type": "code",
   "execution_count": null,
   "metadata": {},
   "outputs": [],
   "source": []
  },
  {
   "cell_type": "code",
   "execution_count": null,
   "metadata": {},
   "outputs": [],
   "source": []
  }
 ],
 "metadata": {
  "interpreter": {
   "hash": "4aedca058b4155234967fa3da88bf0b29abe2f47d758f3debe6af85bc2e061a5"
  },
  "kernelspec": {
   "display_name": "Python 3.7.10 64-bit ('base': conda)",
   "name": "python3"
  },
  "language_info": {
   "codemirror_mode": {
    "name": "ipython",
    "version": 3
   },
   "file_extension": ".py",
   "mimetype": "text/x-python",
   "name": "python",
   "nbconvert_exporter": "python",
   "pygments_lexer": "ipython3",
   "version": "3.7.10"
  }
 },
 "nbformat": 4,
 "nbformat_minor": 2
}
