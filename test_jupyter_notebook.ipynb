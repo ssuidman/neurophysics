{
 "cells": [
  {
   "cell_type": "code",
   "execution_count": 3,
   "metadata": {},
   "outputs": [],
   "source": [
    "import sympy\n",
    "from einsteinpy.symbolic import MetricTensor, ChristoffelSymbols, RiemannCurvatureTensor, RicciTensor, RicciScalar\n",
    "sympy.init_printing()  # enables the best printing available in an environment\n",
    "from sympy import simplify\n",
    "\n",
    "#fill in metric\n",
    "t,x,y,z,w = sympy.symbols('t x y z w') #define symbols\n",
    "metric_list = [[0 for i in range(4)] for i in range(4)] #create empty matrix\n",
    "metric_list[0][0] = -(1-w**2*(x**2+y**2)) #fill in the matrix (of the metric) with the symbols\n",
    "metric_list[0][1] = -2*w*y\n",
    "metric_list[1][0] = -2*w*y\n",
    "metric_list[0][2] = 2*w*x\n",
    "metric_list[2][0] = 2*w*x\n",
    "metric_list[1][1] = 1\n",
    "metric_list[2][2] = 1\n",
    "metric_list[3][3] = 1\n",
    "# creating metric object\n",
    "metric = MetricTensor(metric_list,[t,x,y,z]) #create metric from matrix (list-type object) and define what symbols are actually variables (so dt,dx,dy,dz)\n",
    "metric.tensor() #metric.tensor() to show the tensor. metric.inv() to get inverse metric and metric.inv().tensor() to show inverse metric as tensor\n",
    "\n",
    "#calculating other tensors starting with metric \n",
    "christoffel_symbols = ChristoffelSymbols.from_metric(metric)\n",
    "riemann_tensor = RiemannCurvatureTensor.from_christoffels(christoffel_symbols)\n",
    "ricci_tensor = RicciTensor.from_riemann(riemann_tensor)\n",
    "ricci_scalar = RicciScalar.from_riccitensor(ricci_tensor) #can also calculate it directly from metric, but if you want all objects then this is faster.\n",
    "\n",
    "#To simplify expression you can do\n",
    "#simplify(christoffel_symbols.tensor())\n"
   ]
  },
  {
   "cell_type": "code",
   "execution_count": 12,
   "metadata": {},
   "outputs": [
    {
     "data": {
      "text/latex": [
       "$\\displaystyle \\left[\\begin{matrix}\\left[\\begin{matrix}0 & \\frac{3 w^{2} x}{3 w^{2} x^{2} + 3 w^{2} y^{2} + 1} & \\frac{3 w^{2} y}{3 w^{2} x^{2} + 3 w^{2} y^{2} + 1} & 0\\\\\\frac{3 w^{2} x}{3 w^{2} x^{2} + 3 w^{2} y^{2} + 1} & 0 & 0 & 0\\\\\\frac{3 w^{2} y}{3 w^{2} x^{2} + 3 w^{2} y^{2} + 1} & 0 & 0 & 0\\\\0 & 0 & 0 & 0\\end{matrix}\\right] & \\left[\\begin{matrix}- w^{2} x & \\frac{6 w^{3} x y}{3 w^{2} x^{2} + 3 w^{2} y^{2} + 1} & - \\frac{6 w^{3} x^{2} + 2 w}{3 w^{2} x^{2} + 3 w^{2} y^{2} + 1} & 0\\\\\\frac{6 w^{3} x y}{3 w^{2} x^{2} + 3 w^{2} y^{2} + 1} & 0 & 0 & 0\\\\- \\frac{6 w^{3} x^{2} + 2 w}{3 w^{2} x^{2} + 3 w^{2} y^{2} + 1} & 0 & 0 & 0\\\\0 & 0 & 0 & 0\\end{matrix}\\right] & \\left[\\begin{matrix}- w^{2} y & \\frac{6 w^{3} y^{2} + 2 w}{3 w^{2} x^{2} + 3 w^{2} y^{2} + 1} & - \\frac{6 w^{3} x y}{3 w^{2} x^{2} + 3 w^{2} y^{2} + 1} & 0\\\\\\frac{6 w^{3} y^{2} + 2 w}{3 w^{2} x^{2} + 3 w^{2} y^{2} + 1} & 0 & 0 & 0\\\\- \\frac{6 w^{3} x y}{3 w^{2} x^{2} + 3 w^{2} y^{2} + 1} & 0 & 0 & 0\\\\0 & 0 & 0 & 0\\end{matrix}\\right] & \\left[\\begin{matrix}0 & 0 & 0 & 0\\\\0 & 0 & 0 & 0\\\\0 & 0 & 0 & 0\\\\0 & 0 & 0 & 0\\end{matrix}\\right]\\end{matrix}\\right]$"
      ],
      "text/plain": [
       "⎡⎡                                  2                      2            ⎤  ⎡  \n",
       "⎢⎢                               3⋅w ⋅x                 3⋅w ⋅y          ⎥  ⎢  \n",
       "⎢⎢          0            ─────────────────────  ─────────────────────  0⎥  ⎢  \n",
       "⎢⎢                          2  2      2  2         2  2      2  2       ⎥  ⎢  \n",
       "⎢⎢                       3⋅w ⋅x  + 3⋅w ⋅y  + 1  3⋅w ⋅x  + 3⋅w ⋅y  + 1   ⎥  ⎢  \n",
       "⎢⎢                                                                      ⎥  ⎢  \n",
       "⎢⎢           2                                                          ⎥  ⎢  \n",
       "⎢⎢        3⋅w ⋅x                                                        ⎥  ⎢  \n",
       "⎢⎢─────────────────────            0                      0            0⎥  ⎢──\n",
       "⎢⎢   2  2      2  2                                                     ⎥  ⎢  \n",
       "⎢⎢3⋅w ⋅x  + 3⋅w ⋅y  + 1                                                 ⎥  ⎢3⋅\n",
       "⎢⎢                                                                      ⎥  ⎢  \n",
       "⎢⎢           2                                                          ⎥  ⎢  \n",
       "⎢⎢        3⋅w ⋅y                                                        ⎥  ⎢  \n",
       "⎢⎢─────────────────────            0                      0            0⎥  ⎢──\n",
       "⎢⎢   2  2      2  2                                                     ⎥  ⎢  \n",
       "⎢⎢3⋅w ⋅x  + 3⋅w ⋅y  + 1                                                 ⎥  ⎢3⋅\n",
       "⎢⎢                                                                      ⎥  ⎢  \n",
       "⎣⎣          0                      0                      0            0⎦  ⎣  \n",
       "\n",
       "                               3               ⎛   3  2      ⎞      ⎤  ⎡      \n",
       "        2                   6⋅w ⋅x⋅y          -⎝6⋅w ⋅x  + 2⋅w⎠      ⎥  ⎢      \n",
       "      -w ⋅x          ─────────────────────  ─────────────────────  0⎥  ⎢      \n",
       "                        2  2      2  2         2  2      2  2       ⎥  ⎢      \n",
       "                     3⋅w ⋅x  + 3⋅w ⋅y  + 1  3⋅w ⋅x  + 3⋅w ⋅y  + 1   ⎥  ⎢      \n",
       "                                                                    ⎥  ⎢      \n",
       "        3                                                           ⎥  ⎢      \n",
       "     6⋅w ⋅x⋅y                                                       ⎥  ⎢    6⋅\n",
       "───────────────────            0                      0            0⎥  ⎢──────\n",
       " 2  2      2  2                                                     ⎥  ⎢   2  \n",
       "w ⋅x  + 3⋅w ⋅y  + 1                                                 ⎥  ⎢3⋅w ⋅x\n",
       "                                                                    ⎥  ⎢      \n",
       " ⎛   3  2      ⎞                                                    ⎥  ⎢      \n",
       "-⎝6⋅w ⋅x  + 2⋅w⎠                                                    ⎥  ⎢      \n",
       "───────────────────            0                      0            0⎥  ⎢──────\n",
       " 2  2      2  2                                                     ⎥  ⎢   2  \n",
       "w ⋅x  + 3⋅w ⋅y  + 1                                                 ⎥  ⎢3⋅w ⋅x\n",
       "                                                                    ⎥  ⎢      \n",
       "        0                      0                      0            0⎦  ⎣      \n",
       "\n",
       "                        3  2                      3             ⎤             \n",
       "    2                6⋅w ⋅y  + 2⋅w            -6⋅w ⋅x⋅y         ⎥             \n",
       "  -w ⋅y          ─────────────────────  ─────────────────────  0⎥             \n",
       "                    2  2      2  2         2  2      2  2       ⎥             \n",
       "                 3⋅w ⋅x  + 3⋅w ⋅y  + 1  3⋅w ⋅x  + 3⋅w ⋅y  + 1   ⎥             \n",
       "                                                                ⎥             \n",
       " 3  2                                                           ⎥  ⎡0  0  0  0\n",
       "w ⋅y  + 2⋅w                                                     ⎥  ⎢          \n",
       "───────────────            0                      0            0⎥  ⎢0  0  0  0\n",
       "2      2  2                                                     ⎥  ⎢          \n",
       "  + 3⋅w ⋅y  + 1                                                 ⎥  ⎢0  0  0  0\n",
       "                                                                ⎥  ⎢          \n",
       "    3                                                           ⎥  ⎣0  0  0  0\n",
       "-6⋅w ⋅x⋅y                                                       ⎥             \n",
       "───────────────            0                      0            0⎥             \n",
       "2      2  2                                                     ⎥             \n",
       "  + 3⋅w ⋅y  + 1                                                 ⎥             \n",
       "                                                                ⎥             \n",
       "    0                      0                      0            0⎦             \n",
       "\n",
       " ⎤\n",
       " ⎥\n",
       " ⎥\n",
       " ⎥\n",
       " ⎥\n",
       " ⎥\n",
       "⎤⎥\n",
       "⎥⎥\n",
       "⎥⎥\n",
       "⎥⎥\n",
       "⎥⎥\n",
       "⎥⎥\n",
       "⎦⎥\n",
       " ⎥\n",
       " ⎥\n",
       " ⎥\n",
       " ⎥\n",
       " ⎥\n",
       " ⎦"
      ]
     },
     "execution_count": 12,
     "metadata": {},
     "output_type": "execute_result"
    }
   ],
   "source": [
    "simplify(christoffel_symbols.tensor())"
   ]
  },
  {
   "cell_type": "code",
   "execution_count": null,
   "metadata": {},
   "outputs": [],
   "source": []
  }
 ],
 "metadata": {
  "interpreter": {
   "hash": "4aedca058b4155234967fa3da88bf0b29abe2f47d758f3debe6af85bc2e061a5"
  },
  "kernelspec": {
   "display_name": "Python 3.7.10 64-bit ('base': conda)",
   "name": "python3"
  },
  "language_info": {
   "codemirror_mode": {
    "name": "ipython",
    "version": 3
   },
   "file_extension": ".py",
   "mimetype": "text/x-python",
   "name": "python",
   "nbconvert_exporter": "python",
   "pygments_lexer": "ipython3",
   "version": "3.7.10"
  }
 },
 "nbformat": 4,
 "nbformat_minor": 2
}
