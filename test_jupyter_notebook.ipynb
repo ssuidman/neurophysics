{
 "cells": [
  {
   "cell_type": "code",
   "execution_count": 535,
   "metadata": {},
   "outputs": [
    {
     "name": "stderr",
     "output_type": "stream",
     "text": [
      "/Users/samsuidman/opt/anaconda3/lib/python3.7/site-packages/ipykernel_launcher.py:14: RuntimeWarning: divide by zero encountered in true_divide\n",
      "  \n",
      "/Users/samsuidman/opt/anaconda3/lib/python3.7/site-packages/ipykernel_launcher.py:22: DeprecationWarning: The truth value of an empty array is ambiguous. Returning False, but in future this will result in an error. Use `array.size > 0` to check that an array is not empty.\n",
      "  0%|          | 0/1000 [00:00<?, ?it/s]/Users/samsuidman/opt/anaconda3/lib/python3.7/site-packages/ipykernel_launcher.py:14: RuntimeWarning: divide by zero encountered in true_divide\n",
      "  \n",
      "/Users/samsuidman/opt/anaconda3/lib/python3.7/site-packages/ipykernel_launcher.py:22: DeprecationWarning: The truth value of an empty array is ambiguous. Returning False, but in future this will result in an error. Use `array.size > 0` to check that an array is not empty.\n",
      "100%|██████████| 1000/1000 [00:01<00:00, 509.97it/s]\n"
     ]
    },
    {
     "data": {
      "image/png": "[encoded data removed]",
      "text/plain": [
       "<Figure size 432x288 with 1 Axes>"
      ]
     },
     "metadata": {
      "needs_background": "light"
     },
     "output_type": "display_data"
    }
   ],
   "source": [
    "import numpy as np \n",
    "import matplotlib.pyplot as plt \n",
    "from scipy.optimize import newton,fsolve\n",
    "from tqdm import tqdm \n",
    "from scipy.signal import find_peaks\n",
    "from scipy.interpolate import interp1d,interp2d,UnivariateSpline,CubicSpline\n",
    "\n",
    "\n",
    "def F(u,o): \n",
    "    f = u**2/(u**2+o**2) \n",
    "    return f \n",
    "\n",
    "def G(v,o): \n",
    "    g = o*np.sqrt(v/(1-v)) \n",
    "    return g \n",
    "\n",
    "def fixed_points(w11,w22,w12,w21,o,test=False):\n",
    "    x = np.linspace(0,1,10000)\n",
    "    y1 = (G(x,o)-w11*x)/w12 \n",
    "    y2_test = np.linspace(0,1,10000) \n",
    "    x2_test = (G(y2_test,o)-w22*y2_test)/w21 \n",
    "    if find_peaks(np.abs(x2_test))[0]!=[]:\n",
    "        i = find_peaks(np.abs(x2_test))[0][0]\n",
    "        j = find_peaks(-np.abs(x2_test))[0][0]\n",
    "\n",
    "        x2_test1 = x2_test[:i] # segment 1\n",
    "        y2_test1 = y2_test[:i] # segment 1\n",
    "        x1 = x[np.argmin(np.abs(x-np.min(x2_test1))):np.argmin(np.abs(x-np.max(x2_test1)))]\n",
    "        y1_1 = y1[np.argmin(np.abs(x-np.min(x2_test1))):np.argmin(np.abs(x-np.max(x2_test1)))]\n",
    "        y2_1 = interp1d(x2_test1,y2_test1,bounds_error=False)(x1)\n",
    "\n",
    "        x2_test2 = x2_test[i:j] # segment 2\n",
    "        y2_test2 = y2_test[i:j] # segment 2\n",
    "        x2 = x[np.argmin(np.abs(x-np.min(x2_test2))):np.argmin(np.abs(x-np.max(x2_test2)))]\n",
    "        y1_2 = y1[np.argmin(np.abs(x-np.min(x2_test2))):np.argmin(np.abs(x-np.max(x2_test2)))]\n",
    "        y2_2 = interp1d(x2_test2,y2_test2,bounds_error=False)(x2)\n",
    "\n",
    "        x2_test3 = x2_test[j:-1] # segment 3 \n",
    "        y2_test3 = y2_test[j:-1] # segment 3 \n",
    "        x3 = x[np.argmin(np.abs(x-np.min(x2_test3))):np.argmin(np.abs(x-np.max(x2_test3)))] \n",
    "        y1_3 = y1[np.argmin(np.abs(x-np.min(x2_test3))):np.argmin(np.abs(x-np.max(x2_test3)))] \n",
    "        y2_3 = interp1d(x2_test3,y2_test3,bounds_error=False)(x3) \n",
    "\n",
    "        x0,y0 = [],[] \n",
    "        x0.append(x1[find_peaks(-np.abs(y2_1-y1_1))[0]]) \n",
    "        y0.append(y1_1[find_peaks(-np.abs(y2_1-y1_1))[0]]) \n",
    "        x0.append(x2[find_peaks(-np.abs(y2_2-y1_2))[0]]) \n",
    "        y0.append(y1_2[find_peaks(-np.abs(y2_2-y1_2))[0]]) \n",
    "        x0.append(x3[find_peaks(-np.abs(y2_3-y1_3))[0]]) \n",
    "        y0.append(y1_3[find_peaks(-np.abs(y2_3-y1_3))[0]]) \n",
    "        x0 = np.concatenate(x0) \n",
    "        y0 = np.concatenate(y0) \n",
    "    else: \n",
    "        y2 = interp1d(x2_test,y2_test)(x) \n",
    "        x0 = x[find_peaks(-np.abs(y1-y2))[0]]\n",
    "        y0 = y1[find_peaks(-np.abs(y1-y2))[0]]\n",
    "        # x0,y0 = 0,0\n",
    "    if test:\n",
    "        return x0,y0,x,y1,x2_test,y2_test\n",
    "    else:\n",
    "        return x0,y0\n",
    "\n",
    "def find_bifurcation(w11,w22,w12,w21):\n",
    "    o_array = np.linspace(0.1,0.4,1000) \n",
    "    fp_length = np.zeros(len(o_array))\n",
    "    for i,o in enumerate(tqdm(o_array)):\n",
    "        x0,y0 = fixed_points(w11,w22,w12,w21,o)\n",
    "        fp_length[i] = len(x0)\n",
    "    fp_length = np.where(fp_length>3,np.nan,fp_length)\n",
    "    return fp_length,o_array\n",
    "\n",
    "w11,w22,w12,w21,o = 0.3,0.2,0.2,0.3,0.2 \n",
    "x0,y0,x,y1,x2_test,y2_test = fixed_points(w11,w22,w12,w21,o,test=True) \n",
    "\n",
    "fig,ax = plt.subplots() \n",
    "ax.plot(x,y1) \n",
    "ax.plot(x2_test,y2_test) \n",
    "ax.scatter(x0,y0) \n",
    "ax.set_xlim([-0.01,1]) \n",
    "ax.set_ylim([-0.4,1]) \n",
    "\n",
    "fp_length,o_array = find_bifurcation(w11,w22,w12,w21) \n",
    "bifurcations = o_array[np.where(np.diff(fp_length)!=0)] \n",
    "\n",
    "\n"
   ]
  },
  {
   "cell_type": "code",
   "execution_count": 536,
   "metadata": {},
   "outputs": [
    {
     "data": {
      "text/plain": [
       "array([0.1       , 0.1003003 , 0.1006006 , 0.1009009 , 0.1012012 ,\n",
       "       0.1015015 , 0.1018018 , 0.1021021 , 0.1024024 , 0.1027027 ,\n",
       "       0.103003  , 0.1033033 , 0.1036036 , 0.1039039 , 0.1042042 ,\n",
       "       0.1045045 , 0.1048048 , 0.10510511, 0.10540541, 0.10570571,\n",
       "       0.10600601, 0.10630631, 0.10660661, 0.10690691, 0.10720721,\n",
       "       0.10750751, 0.10780781, 0.10810811, 0.10840841, 0.10870871,\n",
       "       0.10900901, 0.10930931, 0.10960961, 0.10990991, 0.11021021,\n",
       "       0.11051051, 0.11081081, 0.11111111, 0.11141141, 0.11171171,\n",
       "       0.11201201, 0.11231231, 0.11261261, 0.11291291, 0.11321321,\n",
       "       0.11351351, 0.11381381, 0.11411411, 0.11441441, 0.11471471,\n",
       "       0.11501502, 0.11531532, 0.11561562, 0.11591592, 0.11621622,\n",
       "       0.11651652, 0.11681682, 0.11711712, 0.11741742, 0.11771772,\n",
       "       0.11801802, 0.11831832, 0.11861862, 0.11891892, 0.11921922,\n",
       "       0.11951952, 0.11981982, 0.12012012, 0.12042042, 0.12072072,\n",
       "       0.12102102, 0.12132132, 0.12162162, 0.12192192, 0.12222222,\n",
       "       0.12252252, 0.12282282, 0.12312312, 0.12342342, 0.12372372,\n",
       "       0.12402402, 0.12432432, 0.12462462, 0.12492492, 0.12522523,\n",
       "       0.12552553, 0.12582583, 0.12612613, 0.12642643, 0.12672673,\n",
       "       0.12702703, 0.12732733, 0.12762763, 0.12792793, 0.12822823,\n",
       "       0.12912913, 0.24984985, 0.30990991])"
      ]
     },
     "execution_count": 536,
     "metadata": {},
     "output_type": "execute_result"
    }
   ],
   "source": [
    "bifurcations"
   ]
  },
  {
   "cell_type": "code",
   "execution_count": null,
   "metadata": {},
   "outputs": [],
   "source": []
  }
 ],
 "metadata": {
  "interpreter": {
   "hash": "4aedca058b4155234967fa3da88bf0b29abe2f47d758f3debe6af85bc2e061a5"
  },
  "kernelspec": {
   "display_name": "Python 3",
   "language": "python",
   "name": "python3"
  },
  "language_info": {
   "codemirror_mode": {
    "name": "ipython",
    "version": 3
   },
   "file_extension": ".py",
   "mimetype": "text/x-python",
   "name": "python",
   "nbconvert_exporter": "python",
   "pygments_lexer": "ipython3",
   "version": "3.7.11"
  }
 },
 "nbformat": 4,
 "nbformat_minor": 2
}
