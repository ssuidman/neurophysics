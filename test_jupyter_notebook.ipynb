{
 "cells": [
  {
   "cell_type": "code",
   "execution_count": 618,
   "metadata": {},
   "outputs": [
    {
     "name": "stderr",
     "output_type": "stream",
     "text": [
      "100%|██████████| 14/14 [00:00<00:00, 11814.94it/s]\n",
      "100%|██████████| 14/14 [00:00<00:00, 9500.12it/s]\n"
     ]
    }
   ],
   "source": [
    "def problem_2e(A): \n",
    "    for i in trange(n): # look at each node\n",
    "        neighbours = np.where(A[i]==1)[0] # get all neighbours\n",
    "        neighbours_combinations = np.array(list(itertools.combinations(neighbours,2))) # get all combinations of neighbours\n",
    "        if len(neighbours_combinations)!=0: # look if there are more than 2 neighbours\n",
    "            triangles = A[neighbours_combinations[:,0],neighbours_combinations[:,1]] # get the values of the combinations of neighbours where a 1 means a connection (=triangle) and a 0 not\n",
    "            C_node = np.sum(triangles)/neighbours_combinations.shape[0] # get the local cluster index\n",
    "        else: # this is the case if there are less than 2 neighbours\n",
    "            C_node = 0 # set C_node to 0 if it has only 1 neighbours\n",
    "    C = np.mean(C_node) # get the average local cluster index\n",
    "    d_matrix = dijkstra(A) # make shortest path matrix via Dijkstra algorithm\n",
    "    d = np.mean(d_matrix) # get the mean path length\n",
    "    return C,d\n",
    "\n",
    "A1 = problem_2a(n=30,m=100,printen=False,plotten=False)\n",
    "A2 = problem_2b(n=30,printen=False,plotten=False)\n",
    "A3 = problem_2c(n=14,k=4,printen=False)\n",
    "A4 = problem_2d(A=A3.copy(),p=0.2,printen=False)\n",
    "C,d = problem_2e(A=A4.copy())\n"
   ]
  },
  {
   "cell_type": "code",
   "execution_count": 619,
   "metadata": {},
   "outputs": [
    {
     "data": {
      "text/plain": [
       "1.0"
      ]
     },
     "execution_count": 619,
     "metadata": {},
     "output_type": "execute_result"
    }
   ],
   "source": [
    "C_nodes"
   ]
  },
  {
   "cell_type": "code",
   "execution_count": null,
   "metadata": {},
   "outputs": [],
   "source": []
  },
  {
   "cell_type": "code",
   "execution_count": null,
   "metadata": {},
   "outputs": [],
   "source": []
  },
  {
   "cell_type": "code",
   "execution_count": null,
   "metadata": {},
   "outputs": [],
   "source": []
  }
 ],
 "metadata": {
  "interpreter": {
   "hash": "4aedca058b4155234967fa3da88bf0b29abe2f47d758f3debe6af85bc2e061a5"
  },
  "kernelspec": {
   "display_name": "Python 3",
   "language": "python",
   "name": "python3"
  },
  "language_info": {
   "codemirror_mode": {
    "name": "ipython",
    "version": 3
   },
   "file_extension": ".py",
   "mimetype": "text/x-python",
   "name": "python",
   "nbconvert_exporter": "python",
   "pygments_lexer": "ipython3",
   "version": "3.7.11"
  }
 },
 "nbformat": 4,
 "nbformat_minor": 2
}
