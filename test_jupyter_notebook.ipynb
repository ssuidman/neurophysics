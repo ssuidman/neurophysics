{
 "cells": [
  {
   "cell_type": "code",
   "execution_count": 1,
   "metadata": {},
   "outputs": [],
   "source": [
    "import numpy as np\n",
    "import matplotlib.pyplot as plt"
   ]
  },
  {
   "cell_type": "code",
   "execution_count": 2,
   "metadata": {},
   "outputs": [
    {
     "data": {
      "text/plain": [
       "1.5277777777777777"
      ]
     },
     "execution_count": 2,
     "metadata": {},
     "output_type": "execute_result"
    }
   ],
   "source": [
    "# Bellman equations to calculate all backward values \n",
    "\n",
    "def create_states(h):\n",
    "    N = int((h**4+10*h**3+35*h**2+50*h+24)/24) # total amount of possible states evaluated from 4 double sums \n",
    "    all_states = np.zeros([N,5],dtype=int) # empty array of len V_len\n",
    "    count = 0\n",
    "    for t in range(h+1): # look at all time points \n",
    "        for n1 in range(t+1): # look at all states at a certain time\n",
    "            n2 = t-n1 # (n1,n2) = (10,0),(9,1),(8,2),...,(9,0),(8,1),(7,2),...,(8,0),(7,1),...,...(0,1),(1,0),(0,0) --> state (0,0) can maybe cause problems       \n",
    "            for w1 in range(n1+1):\n",
    "                for w2 in range(n2+1):\n",
    "                    all_states[count] = t,n1,w1,n2,w2\n",
    "                    count += 1\n",
    "    return all_states\n",
    "\n",
    "def get_index(n1,w1,n2,w2,all_states): # get index that correlates with certain state from the 'all_state' matrix\n",
    "    if type(n1)==int or type(n1)==float:\n",
    "        index_1 = np.intersect1d(np.where(all_states[:,1]==n1),np.where(all_states[:,2]==w1))\n",
    "        index_2 = np.intersect1d(np.where(all_states[:,3]==n2),np.where(all_states[:,4]==w2))\n",
    "        index = np.intersect1d(index_1,index_2)[0]\n",
    "    else:\n",
    "        index = np.zeros(len(n1),dtype=int)\n",
    "        for i in range(len(n1)):\n",
    "            index_1 = np.intersect1d(np.where(all_states[:,1]==n1[i]),np.where(all_states[:,2]==w1[i]))\n",
    "            index_2 = np.intersect1d(np.where(all_states[:,3]==n2[i]),np.where(all_states[:,4]==w2[i]))\n",
    "            index_i = np.intersect1d(index_1,index_2)[0]\n",
    "            index[i] = index_i\n",
    "    return index \n",
    "\n",
    "def p(n,w): # calculate expected probability from drawings and payoffs for a machine\n",
    "    return (w+1)/(n+2)\n",
    "\n",
    "def get_V(all_states):\n",
    "    N = all_states.shape[0]\n",
    "    V = np.zeros(N)\n",
    "\n",
    "    index = np.where(all_states[:,0]==h-1)\n",
    "    t_states = all_states[index]\n",
    "    n1,w1,n2,w2 = t_states[:,1],t_states[:,2],t_states[:,3],t_states[:,4]\n",
    "    p1,p2 = p(n1,w1),p(n2,w2)\n",
    "    V[index] = np.max([p1,p2],axis=0)\n",
    "\n",
    "    for t in range(h-1)[::-1]: \n",
    "        index = np.where(all_states[:,0]==t)\n",
    "        t_states = all_states[index]\n",
    "        n1,w1,n2,w2 = t_states[:,1],t_states[:,2],t_states[:,3],t_states[:,4]\n",
    "        p1,p2 = p(n1,w1),p(n2,w2)\n",
    "        value1 = p1*(1+V[get_index(n1+1,w1+1,n2,w2,all_states)])+(1-p1)*V[get_index(n1+1,w1,n2,w2,all_states)]\n",
    "        value2 = p2*(1+V[get_index(n1,w1,n2+1,w2+1,all_states)])+(1-p2)*V[get_index(n1,w1,n2+1,w2,all_states)]\n",
    "        V[index] = np.max([value1,value2],axis=0)\n",
    "    return V\n",
    "\n",
    "h = 4\n",
    "all_states = create_states(h)\n",
    "V = get_V(all_states)\n",
    "V[get_index(0,0,1,0,all_states)] # This should be 1.53 as stated in the slides\n"
   ]
  },
  {
   "cell_type": "code",
   "execution_count": 50,
   "metadata": {},
   "outputs": [],
   "source": [
    "# initialize values before drawing\n",
    "p1,p2 = 0.3,0.5 # probability of machine 1,2 for payoff 1\n",
    "n1,w1,n2,w2 = 0,0,0,0 # amount of draws and payoffs for machine 1,2 in the beginning\n",
    "h = 10 # total amount of draws\n",
    "state = np.zeros([h,4]) # state matrix\n",
    "n1 += 1 # draw from machine 1 in first step\n",
    "w1 = 1 if np.random.rand() <= p1 else 0 # payoff with probability 1\n",
    "state[1] = [n1,w1,n2,w2] # update first step in the state\n",
    "# Start drawing other samples using all possible states V*\n",
    "# 1) Calculate expected outcome after the first step via argmax and pick the highest probability\n",
    "# 2) Calculate expected outcome after the second step via argmax and pick the highest probability\n",
    "# etc...\n",
    "# In the end you have a matrix states with in the end a state: states[h] that gives the final outcome. This immediately gives the final payoff w=w1+w2"
   ]
  },
  {
   "cell_type": "code",
   "execution_count": null,
   "metadata": {},
   "outputs": [],
   "source": []
  },
  {
   "cell_type": "code",
   "execution_count": null,
   "metadata": {},
   "outputs": [],
   "source": []
  }
 ],
 "metadata": {
  "interpreter": {
   "hash": "4aedca058b4155234967fa3da88bf0b29abe2f47d758f3debe6af85bc2e061a5"
  },
  "kernelspec": {
   "display_name": "Python 3",
   "language": "python",
   "name": "python3"
  },
  "language_info": {
   "codemirror_mode": {
    "name": "ipython",
    "version": 3
   },
   "file_extension": ".py",
   "mimetype": "text/x-python",
   "name": "python",
   "nbconvert_exporter": "python",
   "pygments_lexer": "ipython3",
   "version": "3.7.11"
  }
 },
 "nbformat": 4,
 "nbformat_minor": 2
}
