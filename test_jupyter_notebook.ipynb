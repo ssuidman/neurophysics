{
 "cells": [
  {
   "cell_type": "code",
   "execution_count": 2,
   "metadata": {},
   "outputs": [],
   "source": [
    "import numpy as np\n",
    "import matplotlib.pyplot as plt"
   ]
  },
  {
   "cell_type": "code",
   "execution_count": 3,
   "metadata": {},
   "outputs": [],
   "source": [
    "data = np.loadtxt(\"/Users/samsuidman/Desktop/neurophysics/advanced_computational_neuroscience/Week 3 Take Home/salamander_data.txt\")"
   ]
  },
  {
   "cell_type": "code",
   "execution_count": null,
   "metadata": {},
   "outputs": [],
   "source": []
  },
  {
   "cell_type": "code",
   "execution_count": 86,
   "metadata": {},
   "outputs": [
    {
     "name": "stdout",
     "output_type": "stream",
     "text": [
      "4.7601323377227045\n",
      "26.871003720256887\n",
      "\n",
      "\n",
      "0.5706917778287122\n",
      "0.9989162058327595\n",
      "\n",
      "\n",
      "0.2544630799995314\n",
      "0.3923367579225791\n",
      "\n",
      "\n",
      "0.1451065218592127\n",
      "0.24579551172101893\n",
      "\n",
      "\n",
      "0.09309812706139058\n",
      "0.18667536866628598\n",
      "\n",
      "\n",
      "0.06408282174708518\n",
      "0.15519350001380142\n",
      "\n",
      "\n",
      "0.04625328822000639\n",
      "0.13672951930122976\n",
      "\n",
      "\n",
      "0.034573023655476265\n",
      "0.12444072364871063\n",
      "\n",
      "\n",
      "0.026569002902886406\n",
      "0.11580568812000036\n",
      "\n",
      "\n",
      "0.02089850277008598\n",
      "0.10947832514305844\n",
      "\n",
      "\n"
     ]
    }
   ],
   "source": [
    "s_all = data.reshape(160,297,953) # s_all[neurons,experiments,time] gives for all neurons all experiments with all timestamps\n",
    "random = False # pick 10 random neurons or the first 10 neurons\n",
    "learning_rate = 0.01\n",
    "\n",
    "if random:    \n",
    "    neurons = np.sort(np.random.randint(0,160,size=10)) # 10 random neurons sorted on index\n",
    "    while(len(np.unique(neurons))!=10): # check if there are not double indices\n",
    "        neurons = np.sort(np.random.randint(0,160,size=10)) # indices of 10 random neurons out of the total\n",
    "if not random:\n",
    "    neurons = np.arange(10) # indices of the first 10 of the total amount neurons\n",
    "\n",
    "s = s_all[neurons,0,:] # s[neurons,patterns] choose 10 neurons and the zero'th experiment \n",
    "N = s.shape[0] # amount of neurons\n",
    "P = s.shape[1] # amount of patterns (=timestamps) \n",
    "s_c = 1/P * np.sum(s,axis=1) # s_c[neurons]     = sum( s[neurons,patterns] ) clamped statistics\n",
    "ss_c = 1/P * np.matmul(s,np.transpose(s)) # ss_c[neurons,neurons]       = sum( s[neurons,patterns]*s[neurons,patterns]^T ) clamped statistics\n",
    "\n",
    "w_random = np.random.uniform(-1,1,size=[N,N]) # w_random[neurons,neurons] is random connection matrix  \n",
    "w_symmetric = w_random + np.transpose(w_random) # w_symmetric[neurons,neurons] is random symmetric connection matrix\n",
    "w = w_symmetric - np.diag(np.diag(w_symmetric)) # w[neurons,neurons] is random symmetric matrix with zeros on diagonal\n",
    "theta = np.random.uniform(-1,1,size=N) # theta[neurons]\n",
    "\n",
    "s_every_pattern = np.zeros([N,2**N]) # s_every_pattern[neurons,patterns]\n",
    "for i in range(2**N):\n",
    "    s_every_pattern[:,i] = np.array(list(np.binary_repr(i,width=N))).astype(int) # s_every_pattern[patterns,neurons] stores every possible pattern of N neurons by representing numbers between 0 and 2^N-1 in binary\n",
    "\n",
    "for i in range(10000):\n",
    "    s_w_s = np.tensordot(np.tensordot(s_every_pattern,w,axes=(0,0)),s_every_pattern,axes=(1,0)) #s_w_s[patterns,patterns] is a sum over s,w,s for all patterns, you want only the diagonal of this because then you sum over the same pattern.\n",
    "    theta_s = np.tensordot(theta,s_every_pattern,axes=(0,0)) # theta_s[patterns] sums over all neurons for each pattern\n",
    "    E = - 0.5*np.diag(s_w_s) - theta_s # calculate E[patterns] for each pattern\n",
    "    Z = np.sum(np.exp(-E)) # calculate Z by summing over the exponential of E(s) for all patterns\n",
    "    p = 1/Z * np.exp(-E) # p[patterns] gives the probability of each of the possible patterns of s_every_pattern. Therefore sum(p)=1\n",
    "    s_i = np.matmul(s_every_pattern,p) # s_i[neurons] free statistic variable\n",
    "    ss_ij = np.matmul(np.multiply(s_every_pattern,p),np.transpose(s_every_pattern)) # ss_ij[neurons,neurons] free statistic variable\n",
    "\n",
    "    w += learning_rate * (ss_c-ss_ij)\n",
    "    theta += learning_rate * (s_c-s_i)\n",
    "    if i in 1000*np.arange(10):\n",
    "        print(np.sum(np.abs(s_c-s_i)))\n",
    "        print(np.sum(np.abs(ss_c-ss_ij)))\n",
    "        print('\\n')"
   ]
  },
  {
   "cell_type": "code",
   "execution_count": 89,
   "metadata": {},
   "outputs": [
    {
     "data": {
      "text/plain": [
       "array([0.00070008, 0.00038626, 0.00297114, 0.00068583, 0.00277748,\n",
       "       0.00054403, 0.0008106 , 0.00105499, 0.00070068, 0.00033171])"
      ]
     },
     "execution_count": 89,
     "metadata": {},
     "output_type": "execute_result"
    }
   ],
   "source": [
    "np.abs(ss_c-ss_ij)[0]"
   ]
  },
  {
   "cell_type": "code",
   "execution_count": null,
   "metadata": {},
   "outputs": [],
   "source": []
  },
  {
   "cell_type": "code",
   "execution_count": null,
   "metadata": {},
   "outputs": [],
   "source": []
  },
  {
   "cell_type": "code",
   "execution_count": null,
   "metadata": {},
   "outputs": [],
   "source": []
  },
  {
   "cell_type": "code",
   "execution_count": null,
   "metadata": {},
   "outputs": [],
   "source": []
  }
 ],
 "metadata": {
  "interpreter": {
   "hash": "4aedca058b4155234967fa3da88bf0b29abe2f47d758f3debe6af85bc2e061a5"
  },
  "kernelspec": {
   "display_name": "Python 3",
   "language": "python",
   "name": "python3"
  },
  "language_info": {
   "codemirror_mode": {
    "name": "ipython",
    "version": 3
   },
   "file_extension": ".py",
   "mimetype": "text/x-python",
   "name": "python",
   "nbconvert_exporter": "python",
   "pygments_lexer": "ipython3",
   "version": "3.7.11"
  }
 },
 "nbformat": 4,
 "nbformat_minor": 2
}
