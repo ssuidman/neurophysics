{
 "cells": [
  {
   "cell_type": "code",
   "execution_count": 1,
   "source": [
    "import numpy as np\n",
    "import matplotlib.pyplot as plt\n"
   ],
   "outputs": [],
   "metadata": {}
  },
  {
   "cell_type": "code",
   "execution_count": 152,
   "source": [
    "import numpy as np\n",
    "import matplotlib.pyplot as plt\n",
    "import pandas as pd\n",
    "from scipy.io import loadmat\n",
    "\n",
    "\n",
    "file = loadmat('/Users/samsuidman/Desktop/neurophysics/machine_learning/mnistAll.mat') \n",
    "\n",
    "train_images = file['mnist']['train_images'][0][0]\n",
    "test_images = file['mnist']['test_images'][0][0]\n",
    "train_labels = file['mnist']['train_labels'][0][0].transpose()[0]\n",
    "test_labels = file['mnist']['test_labels'][0][0].transpose()[0]\n",
    "\n",
    "\n",
    "indices_3 = np.where(train_labels==3)[0]\n",
    "indices_7 = np.where(train_labels==7)[0]\n",
    "X3 = train_images[:,:,indices_3]\n",
    "X7 = train_images[:,:,indices_7]\n",
    "n3 = np.size(X3,2)\n",
    "n7 = np.size(X7,2)\n",
    "X3 = np.reshape(X3,[784,n3])\n",
    "X7 = np.reshape(X7,[784,n7])\n",
    "X3 = X3/np.max((np.max(np.concatenate(X3)),np.max(np.concatenate(X7))))\n",
    "X7 = X7/np.max((np.max(np.concatenate(X3)),np.max(np.concatenate(X7))))\n",
    "\n",
    "#These are the important matrices and arrays in the end. X3 consists of P=6131 images of the number 3. X[3] for example is the 4th image. Each image has 28x28=784 pixels. To make sure that an image doesn't only consists of zeros, before each image is a 1 added. \n",
    "X3 = (np.insert(X3,0,1,axis=0)).transpose() #shape = (6131,785)\n",
    "X7 = (np.insert(X3,0,1,axis=0)).transpose() #shape = (6265,785)\n",
    "t3 = np.zeros([1,n3])[0] #length = 6131\n",
    "t7 = np.ones([1,n7])[0] #length = 6265\n",
    "\n",
    "\n",
    "#these are the functions \n",
    "def y(w,X):\n",
    "    y = np.array([1/(1+np.exp(-np.dot(w,x))) for x in X])\n",
    "    return y \n",
    "\n",
    "def E(w,X,t):\n",
    "    Ew = np.array([-1/len(x)*(t*np.log(y(w,x)+(1-t)*np.log(1-y(w,x)))) for x in X])\n",
    "    return Ew\n",
    "\n",
    "def dE(w,X,t):\n",
    "    dE = np.array([1/len(x)*(y(w,x)-t)*x for x in X])\n",
    "    return dE\n",
    "\n",
    "\n",
    "w = np.random.normal(0,1,size=X3[0].shape)\n",
    "\n",
    "\n"
   ],
   "outputs": [],
   "metadata": {}
  },
  {
   "cell_type": "code",
   "execution_count": 165,
   "source": [
    "plt.plot(np.sort(y(w,X3)))"
   ],
   "outputs": [
    {
     "output_type": "execute_result",
     "data": {
      "text/plain": [
       "[<matplotlib.lines.Line2D at 0x11a7474d0>]"
      ]
     },
     "metadata": {},
     "execution_count": 165
    },
    {
     "output_type": "display_data",
     "data": {
      "image/png": "[encoded data removed]",
      "text/plain": [
       "<Figure size 432x288 with 1 Axes>"
      ]
     },
     "metadata": {
      "needs_background": "light"
     }
    }
   ],
   "metadata": {}
  },
  {
   "cell_type": "code",
   "execution_count": 143,
   "source": [
    "X3.shape"
   ],
   "outputs": [
    {
     "output_type": "execute_result",
     "data": {
      "text/plain": [
       "(6131, 785)"
      ]
     },
     "metadata": {},
     "execution_count": 143
    }
   ],
   "metadata": {}
  },
  {
   "cell_type": "code",
   "execution_count": null,
   "source": [],
   "outputs": [],
   "metadata": {}
  }
 ],
 "metadata": {
  "language_info": {
   "name": "python",
   "version": "3.7.10",
   "mimetype": "text/x-python",
   "codemirror_mode": {
    "name": "ipython",
    "version": 3
   },
   "pygments_lexer": "ipython3",
   "nbconvert_exporter": "python",
   "file_extension": ".py"
  },
  "kernelspec": {
   "name": "python3",
   "display_name": "Python 3.7.10 64-bit ('base': conda)"
  },
  "interpreter": {
   "hash": "084e3a489dfecdb25179b04f2c4d3bdc463fde1474fe48f372e120a0e4511f12"
  }
 },
 "nbformat": 4,
 "nbformat_minor": 2
}