{
 "cells": [
  {
   "cell_type": "code",
   "execution_count": null,
   "metadata": {},
   "outputs": [],
   "source": [
    "including(\"packages.jl\")\n",
    "include(\"quickscore_preparation.jl\")\n",
    "include(\"quickscore_algorithm.jl\")\n",
    "\n",
    "m=18\n",
    "file = jldopen(\"variables/m_$m.jld\", \"r\")\n",
    "previn = file[\"previn\"]\n",
    "pfminneg = file[\"pfminneg\"]\n",
    "pfmin = file[\"pfmin\"]\n",
    "close(file)\n",
    "\n",
    "# @pprof pfplus, posterior, dt = quickscore(previn,pfmin,pfminneg,false)\n",
    "# warning = @code_warntype quickscore(previn, pfmin, pfminneg, false)\n",
    "pfplus, posterior, dt = quickscore(previn,pfmin,pfminneg,false)\n",
    "\n",
    "\n"
   ]
  },
  {
   "cell_type": "code",
   "execution_count": 180,
   "metadata": {},
   "outputs": [
    {
     "name": "stdout",
     "output_type": "stream",
     "text": [
      "Running time was 23.994489667 seconds\n"
     ]
    }
   ],
   "source": [
    "using Random\n",
    "using Profile\n",
    "using InteractiveUtils\n",
    "\n",
    "function f()\n",
    "    x, myset, pfmin, prevminneg, prev, k = rand(101, 100), [1,4,5,6], rand(18,100), rand(101,100), rand(101,100), 1\n",
    "    t = @elapsed begin\n",
    "        for i = 1:2^24\n",
    "            # y = log.(x)\n",
    "            y = prod(x,dims=1)\n",
    "            # y = ((-1)^length(myset)) .* exp.(sum(log.(1e-50 .+ (prod(pfmin[myset, :],dims=1) .* prevminneg .+ (1 .- prev))), dims=2))\n",
    "            # y = ((-1)^length(myset)) .* prod(1e-50 .+ (prod(pfmin[myset, :],dims=1) .* prevminneg .+ (1 .- prev)),dims=2)\n",
    "            # y = log.(1e-50 .+ (prod(pfmin[myset, :],dims=1) .* prevminneg .+ (1 .- prev)))\n",
    "            # y = (1e-50 .+ (prod(pfmin[myset, :],dims=1) .* prevminneg .+ (1 .- prev)))\n",
    "            # y = prod(1e-50 .+ (prod(pfmin[myset, :],dims=1) .* prevminneg .+ (1 .- prev)),dims=2)\n",
    "        end\n",
    "    end\n",
    "    println(\"Running time was $t seconds\")\n",
    "end\n",
    "\n",
    "f()\n",
    "\n"
   ]
  },
  {
   "cell_type": "code",
   "execution_count": 175,
   "metadata": {},
   "outputs": [],
   "source": []
  },
  {
   "cell_type": "code",
   "execution_count": 169,
   "metadata": {},
   "outputs": [],
   "source": [
    "\n"
   ]
  },
  {
   "cell_type": "code",
   "execution_count": 28,
   "metadata": {},
   "outputs": [],
   "source": []
  }
 ],
 "metadata": {
  "kernelspec": {
   "display_name": "Julia 1.9.3",
   "language": "julia",
   "name": "julia-1.9"
  },
  "language_info": {
   "file_extension": ".jl",
   "mimetype": "application/julia",
   "name": "julia",
   "version": "1.9.3"
  },
  "orig_nbformat": 4
 },
 "nbformat": 4,
 "nbformat_minor": 2
}
