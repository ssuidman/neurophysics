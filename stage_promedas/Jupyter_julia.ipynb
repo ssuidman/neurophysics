{
 "cells": [
  {
   "cell_type": "code",
   "execution_count": 3,
   "metadata": {},
   "outputs": [],
   "source": [
    "include(\"packages.jl\")\n",
    "file = jldopen(\"variables/m_18.jld\", \"r\")\n",
    "previn = file[\"previn\"]\n",
    "pfminneg = file[\"pfminneg\"]\n",
    "pfmin = file[\"pfmin\"]\n",
    "close(file)"
   ]
  },
  {
   "cell_type": "code",
   "execution_count": 8,
   "metadata": {},
   "outputs": [
    {
     "data": {
      "text/plain": [
       "100-element Vector{Float64}:\n",
       " 0.03863427903780465\n",
       " 0.02359253879681072\n",
       " 0.02948266764302406\n",
       " 0.035103180386766256\n",
       " 0.038807757091241464\n",
       " 0.03640176694377803\n",
       " 0.03505032265338364\n",
       " 0.03508378040346216\n",
       " 0.028131205718594447\n",
       " 0.03279209704483333\n",
       " ⋮\n",
       " 0.022298354771244\n",
       " 0.024409479482574062\n",
       " 0.02510381955024049\n",
       " 0.038112772248468374\n",
       " 0.032860178613262424\n",
       " 0.0302588972152099\n",
       " 0.021855983282309324\n",
       " 0.02418588226802133\n",
       " 0.023422573817540676"
      ]
     },
     "metadata": {},
     "output_type": "display_data"
    }
   ],
   "source": []
  },
  {
   "cell_type": "code",
   "execution_count": null,
   "metadata": {},
   "outputs": [],
   "source": []
  },
  {
   "cell_type": "code",
   "execution_count": null,
   "metadata": {},
   "outputs": [],
   "source": []
  }
 ],
 "metadata": {
  "kernelspec": {
   "display_name": "Julia 1.9.3",
   "language": "julia",
   "name": "julia-1.9"
  },
  "language_info": {
   "file_extension": ".jl",
   "mimetype": "application/julia",
   "name": "julia",
   "version": "1.9.3"
  },
  "orig_nbformat": 4
 },
 "nbformat": 4,
 "nbformat_minor": 2
}
