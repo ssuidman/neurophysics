{
 "cells": [
  {
   "cell_type": "code",
   "execution_count": 63,
   "metadata": {},
   "outputs": [
    {
     "name": "stdout",
     "output_type": "stream",
     "text": [
      "m=18\n",
      "flip\n",
      "0: [1, 0, 0, 0, 0, 0, 0, 0, 0, 0, 0, 0, 0, 0, 0, 0, 0, 0] --> 9.894371032714844e-5 \n",
      "1: [0, 1, 0, 0, 0, 0, 0, 0, 0, 0, 0, 0, 0, 0, 0, 0, 0, 0] --> 0.00016999244689941406 \n",
      "2: [0, 0, 1, 0, 0, 0, 0, 0, 0, 0, 0, 0, 0, 0, 0, 0, 0, 0] --> 0.0002808570861816406 \n",
      "3: [0, 0, 0, 1, 0, 0, 0, 0, 0, 0, 0, 0, 0, 0, 0, 0, 0, 0] --> 0.00041294097900390625 \n",
      "4: [0, 0, 0, 0, 1, 0, 0, 0, 0, 0, 0, 0, 0, 0, 0, 0, 0, 0] --> 0.0006389617919921875 \n",
      "5: [0, 0, 0, 0, 0, 1, 0, 0, 0, 0, 0, 0, 0, 0, 0, 0, 0, 0] --> 0.0010938644409179688 \n",
      "6: [0, 0, 0, 0, 0, 0, 1, 0, 0, 0, 0, 0, 0, 0, 0, 0, 0, 0] --> 0.001986980438232422 \n",
      "7: [0, 0, 0, 0, 0, 0, 0, 1, 0, 0, 0, 0, 0, 0, 0, 0, 0, 0] --> 0.0037817955017089844 \n",
      "8: [0, 0, 0, 0, 0, 0, 0, 0, 1, 0, 0, 0, 0, 0, 0, 0, 0, 0] --> 0.026024818420410156 \n",
      "9: [0, 0, 0, 0, 0, 0, 0, 0, 0, 1, 0, 0, 0, 0, 0, 0, 0, 0] --> 0.039247989654541016 \n",
      "10: [0, 0, 0, 0, 0, 0, 0, 0, 0, 0, 1, 0, 0, 0, 0, 0, 0, 0] --> 0.06651496887207031 \n",
      "11: [0, 0, 0, 0, 0, 0, 0, 0, 0, 0, 0, 1, 0, 0, 0, 0, 0, 0] --> 0.09707498550415039 \n",
      "12: [0, 0, 0, 0, 0, 0, 0, 0, 0, 0, 0, 0, 1, 0, 0, 0, 0, 0] --> 0.15864992141723633 \n"
     ]
    },
    {
     "name": "stdout",
     "output_type": "stream",
     "text": [
      "13: [0, 0, 0, 0, 0, 0, 0, 0, 0, 0, 0, 0, 0, 1, 0, 0, 0, 0] --> 0.2798788547515869 \n",
      "14: [0, 0, 0, 0, 0, 0, 0, 0, 0, 0, 0, 0, 0, 0, 1, 0, 0, 0] --> 0.5309288501739502 \n"
     ]
    },
    {
     "name": "stdout",
     "output_type": "stream",
     "text": [
      "15: [0, 0, 0, 0, 0, 0, 0, 0, 0, 0, 0, 0, 0, 0, 0, 1, 0, 0] --> 1.0388407707214355 \n",
      "16: [0, 0, 0, 0, 0, 0, 0, 0, 0, 0, 0, 0, 0, 0, 0, 0, 1, 0] --> 1.9989497661590576 \n"
     ]
    },
    {
     "name": "stdout",
     "output_type": "stream",
     "text": [
      "17: [0, 0, 0, 0, 0, 0, 0, 0, 0, 0, 0, 0, 0, 0, 0, 0, 0, 1] --> 3.906296968460083 \n",
      "18: [0, 0, 0, 0, 0, 0, 0, 0, 0, 0, 0, 0, 0, 0, 0, 0, 0, 0] --> 7.780009984970093 \n"
     ]
    },
    {
     "name": "stdout",
     "output_type": "stream",
     "text": [
      "\n",
      "Total running time was 7.780009984970093 \n",
      "\n"
     ]
    },
    {
     "data": {
      "text/plain": [
       "([2.72164756009996e-10, 2.05118410104288e-10, 1.2656234994214404e-10, 1.6099371055039446e-10, 9.99085925752416e-11, 1.1392573039462062e-10, 4.662270183092808e-10, 2.333108695931792e-10, 8.43254707597399e-11, 8.541727373155561e-11  …  7.754499142418811e-11, 9.437864313850686e-11, 3.298674109471905e-10, 1.8044547507676395e-10, 6.792063366812054e-10, 1.3605493327014523e-10, 1.9084700817297365e-10, 1.394270417030179e-10, 2.790677590814965e-10, 5.935757294212897e-10], [0.029116929054064804, 0.010971027972173966, 0.017439892403262408, 0.012885979061990793, 0.016244579703899354, 0.062357402597578236, 0.030046584200204448, 0.010870093328486024, 0.008828809925615909, 0.04411882746662393  …  0.007207853496952543, 0.007732406276196048, 0.02958462336390662, 0.01664385466874384, 0.09511311015852678, 0.016426775729581497, 0.021218103654553407, 0.011196582310058848, 0.0247993166525122, 0.05108329066001507], Any[9.894371032714844e-5, 0.00016999244689941406, 0.0002808570861816406, 0.00041294097900390625, 0.0006389617919921875, 0.0010938644409179688, 0.001986980438232422, 0.0037817955017089844, 0.026024818420410156, 0.039247989654541016, 0.06651496887207031, 0.09707498550415039, 0.15864992141723633, 0.2798788547515869, 0.5309288501739502, 1.0388407707214355, 1.9989497661590576, 3.906296968460083, 7.780009984970093])"
      ]
     },
     "metadata": {},
     "output_type": "display_data"
    }
   ],
   "source": [
    "include(\"packages.jl\")\n",
    "include(\"quickscore_preparation.jl\")\n",
    "include(\"quickscore_algorithm.jl\")\n",
    "\n",
    "# LOAD SOME RANDOM VARIABLES previn,pfminneg,pfmin FOR A CERTAIN m=17 and run the quickscore\n",
    "file = jldopen(\"variables/m_18.jld\", \"r\")\n",
    "previn = file[\"previn\"]\n",
    "pfminneg = file[\"pfminneg\"]\n",
    "pfmin = file[\"pfmin\"]\n",
    "close(file)\n",
    "\n",
    "m,n = size(pfmin)\n",
    "prev = repeat(previn',inner=(n+1,1)); for i in 1:n prev[i+1,i]=1 end \n",
    "prevend = vcat(1,previn) # prevend are the prevalences 1, P(d_1=1),... P(d_n=1) and is needed to multiply at the end\n",
    "prevminneg = prev.*pfminneg'\n",
    "\n",
    "# pfplus_bigfloat,posterior_bigfloat,dt = quickscore(previn, pfmin, pfminneg,false); \n",
    "pfplus_prod_bigfloat,posterior_prod_bigfloat,dt = quickscore(previn, pfmin, pfminneg,false); \n",
    "# pfplus_prod,posterior_prod,dt = quickscore(previn, pfmin, pfminneg,false); \n",
    "# pfplus,posterior,dt = quickscore(previn, pfmin, pfminneg,false); "
   ]
  },
  {
   "cell_type": "code",
   "execution_count": 64,
   "metadata": {},
   "outputs": [],
   "source": [
    "matlab_dir = \"/Users/sam/Documents/MATLAB/Wim/\"\n",
    "matfile = matopen(joinpath(matlab_dir,\"variables_julia/test.mat\"),\"r\") \n",
    "posterior_matlab = read(matfile, \"posterior\")[1,:]\n",
    "close(matfile) \n"
   ]
  },
  {
   "cell_type": "code",
   "execution_count": 76,
   "metadata": {},
   "outputs": [
    {
     "data": {
      "text/plain": [
       "2.2632720350634905e-18"
      ]
     },
     "metadata": {},
     "output_type": "display_data"
    }
   ],
   "source": [
    "# posterior_bigfloat - posterior_matlab\n",
    "# posterior - posterior_matlab\n",
    "# posterior - posterior_bigfloat\n",
    "# pfplus - pfplus_bigfloat\n",
    "# pfplus_prod_bigfloat - pfplus_prod\n",
    "minimum(abs,pfplus - pfplus_prod)\n",
    "\n"
   ]
  },
  {
   "cell_type": "code",
   "execution_count": null,
   "metadata": {},
   "outputs": [],
   "source": []
  },
  {
   "cell_type": "code",
   "execution_count": null,
   "metadata": {},
   "outputs": [],
   "source": []
  },
  {
   "cell_type": "code",
   "execution_count": null,
   "metadata": {},
   "outputs": [],
   "source": []
  },
  {
   "cell_type": "code",
   "execution_count": null,
   "metadata": {},
   "outputs": [],
   "source": []
  },
  {
   "cell_type": "code",
   "execution_count": null,
   "metadata": {},
   "outputs": [],
   "source": []
  },
  {
   "cell_type": "code",
   "execution_count": null,
   "metadata": {},
   "outputs": [],
   "source": []
  }
 ],
 "metadata": {
  "kernelspec": {
   "display_name": "Julia 1.9.3",
   "language": "julia",
   "name": "julia-1.9"
  },
  "language_info": {
   "file_extension": ".jl",
   "mimetype": "application/julia",
   "name": "julia",
   "version": "1.9.3"
  },
  "orig_nbformat": 4
 },
 "nbformat": 4,
 "nbformat_minor": 2
}
