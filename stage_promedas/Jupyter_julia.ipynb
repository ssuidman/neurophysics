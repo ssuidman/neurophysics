{
 "cells": [
  {
   "cell_type": "code",
   "execution_count": 458,
   "metadata": {},
   "outputs": [
    {
     "data": {
      "text/plain": [
       "4×6 Matrix{Float64}:\n",
       " -0.679357  -0.0644841   -0.801967   -0.289086   -0.919589  NaN\n",
       " -1.03028   -1.33012     -3.5148     -0.599392  NaN          -0.233989\n",
       " -0.972536  -2.10419     -0.994394  NaN          -1.76684    -0.755459\n",
       " -1.33382   -0.459411   NaN          -2.23007    -3.82388    -1.19842"
      ]
     },
     "metadata": {},
     "output_type": "display_data"
    }
   ],
   "source": [
    "include(\"packages.jl\")\n",
    "Random.seed!(1234) \n",
    "# x, myset, pfmin, prevminneg, prev, M, n = rand(101, 100), [1,4,5,6], rand(18,100), rand(101,100), rand(101,100), 20000, 100\n",
    "# y, z, m, z_int, c, c3, c4 = zeros(n), rand(M,n), rand(1,n), rand([-1 1],M,n), Matrix{Float64}(undef,M,1), Matrix{Float64}(undef,M,1), Matrix{Float64}(undef,M,1)\n",
    "\n",
    "# y = ((-1)^length(myset)) .* @avx(exp.(sum(log.(1e-50 .+ (prod(pfmin[myset, :],dims=1) .* prevminneg .+ (1 .- prev))), dims=2)))\n",
    "# y = ((-1)^length(myset)) .* exp.(sum(@avx(log.(1e-50 .+ (prod(pfmin[myset, :],dims=1) .* prevminneg .+ (1 .- prev)))), dims=2));\n",
    "# y = ((-1)^length(myset)) .* exp.(sum(@avx(log.(1e-50 .+ (@avx(prod(pfmin[myset, :],dims=1)) .* prevminneg .+ (1 .- prev)))), dims=2));\n",
    "# y = @avx(exp.(x));\n",
    "# y = ((-1)^length(myset)) .* exp.(sum(@avx(log.(1e-50 .+ @avx(prod(pfmin[myset, :],dims=1)) .* prevminneg .+ (1 .- prev))), dims=2)); \n",
    "# sum(@avx(log.(1e-50 .+ (prod(pfmin[myset, :],dims=1) .* prevminneg .+ (1 .- prev)))), dims=2)\n",
    "# y = @avx(log.(1e-50 .+ (prod(pfmin[myset, :],dims=1) .* prevminneg .+ (1 .- prev))))\n",
    "\n",
    "findfirst(isnan, y)\n",
    "log1 = log.(1e-50 .+ (prod(pfmin[myset, :],dims=1) .* prevminneg .+ (1 .- prev)))\n",
    "log1[98:101,66:70]\n",
    "y[98:101,66:71]\n"
   ]
  },
  {
   "cell_type": "code",
   "execution_count": 482,
   "metadata": {},
   "outputs": [],
   "source": [
    "zzz1 = zeros(101,1)\n",
    "zzz2 = zeros(101,1)\n",
    "for k=1:2^17;   a = 1e-50 .+ (prod(pfmin[myset, :],dims=1) .* prevminneg .+ (1 .- prev)); zzz1 += ((-1)^length(myset)) .* exp.(sum(@avx(log.(a)), dims=2)); end;\n",
    "for k=1:2^17;   zzz2 += ((-1)^length(myset)) .* exp.(sum((log.(1e-50 .+ (prod(pfmin[myset, :],dims=1) .* prevminneg .+ (1 .- prev)))), dims=2)); end;\n"
   ]
  },
  {
   "cell_type": "code",
   "execution_count": 498,
   "metadata": {},
   "outputs": [
    {
     "data": {
      "text/plain": [
       "4.484155085839415e-44"
      ]
     },
     "metadata": {},
     "output_type": "display_data"
    }
   ],
   "source": [
    "maximum((zzz1-zzz2))"
   ]
  },
  {
   "cell_type": "code",
   "execution_count": 484,
   "metadata": {},
   "outputs": [
    {
     "data": {
      "text/plain": [
       "1×101 adjoint(::Matrix{Float64}) with eltype Float64:\n",
       " 5.377e-30  1.30941e-28  1.43047e-33  …  1.68368e-40  1.36177e-37"
      ]
     },
     "metadata": {},
     "output_type": "display_data"
    }
   ],
   "source": []
  }
 ],
 "metadata": {
  "kernelspec": {
   "display_name": "Julia 1.9.3",
   "language": "julia",
   "name": "julia-1.9"
  },
  "language_info": {
   "file_extension": ".jl",
   "mimetype": "application/julia",
   "name": "julia",
   "version": "1.9.3"
  },
  "orig_nbformat": 4
 },
 "nbformat": 4,
 "nbformat_minor": 2
}
