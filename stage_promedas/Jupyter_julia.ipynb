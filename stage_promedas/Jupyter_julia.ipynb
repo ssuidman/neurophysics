{
 "cells": [
  {
   "cell_type": "code",
   "execution_count": 8,
   "metadata": {},
   "outputs": [
    {
     "name": "stdout",
     "output_type": "stream",
     "text": [
      "m=18\n",
      "flip\n",
      "0: [1, 0, 0, 0, 0, 0, 0, 0, 0, 0, 0, 0, 0, 0, 0, 0, 0, 0] --> 0.00010085105895996094 \n",
      "1: [0, 1, 0, 0, 0, 0, 0, 0, 0, 0, 0, 0, 0, 0, 0, 0, 0, 0] --> 0.00017189979553222656 \n",
      "2: [0, 0, 1, 0, 0, 0, 0, 0, 0, 0, 0, 0, 0, 0, 0, 0, 0, 0] --> 0.0024139881134033203 \n",
      "3: [0, 0, 0, 1, 0, 0, 0, 0, 0, 0, 0, 0, 0, 0, 0, 0, 0, 0] --> 0.0027740001678466797 \n",
      "4: [0, 0, 0, 0, 1, 0, 0, 0, 0, 0, 0, 0, 0, 0, 0, 0, 0, 0] --> 0.0033299922943115234 \n",
      "5: [0, 0, 0, 0, 0, 1, 0, 0, 0, 0, 0, 0, 0, 0, 0, 0, 0, 0] --> 0.004363059997558594 \n",
      "6: [0, 0, 0, 0, 0, 0, 1, 0, 0, 0, 0, 0, 0, 0, 0, 0, 0, 0] --> 0.006532907485961914 \n",
      "7: [0, 0, 0, 0, 0, 0, 0, 1, 0, 0, 0, 0, 0, 0, 0, 0, 0, 0] --> 0.010828971862792969 \n",
      "8: [0, 0, 0, 0, 0, 0, 0, 0, 1, 0, 0, 0, 0, 0, 0, 0, 0, 0] --> 0.027920007705688477 \n",
      "9: [0, 0, 0, 0, 0, 0, 0, 0, 0, 1, 0, 0, 0, 0, 0, 0, 0, 0] --> 0.044113874435424805 \n",
      "10: [0, 0, 0, 0, 0, 0, 0, 0, 0, 0, 1, 0, 0, 0, 0, 0, 0, 0] --> 0.09161996841430664 \n"
     ]
    },
    {
     "name": "stdout",
     "output_type": "stream",
     "text": [
      "11: [0, 0, 0, 0, 0, 0, 0, 0, 0, 0, 0, 1, 0, 0, 0, 0, 0, 0] --> 0.16587591171264648 \n",
      "12: [0, 0, 0, 0, 0, 0, 0, 0, 0, 0, 0, 0, 1, 0, 0, 0, 0, 0] --> 0.30801892280578613 \n"
     ]
    },
    {
     "name": "stdout",
     "output_type": "stream",
     "text": [
      "13: [0, 0, 0, 0, 0, 0, 0, 0, 0, 0, 0, 0, 0, 1, 0, 0, 0, 0] --> 0.5980269908905029 \n",
      "14: [0, 0, 0, 0, 0, 0, 0, 0, 0, 0, 0, 0, 0, 0, 1, 0, 0, 0] --> 1.181765079498291 \n"
     ]
    },
    {
     "name": "stdout",
     "output_type": "stream",
     "text": [
      "15: [0, 0, 0, 0, 0, 0, 0, 0, 0, 0, 0, 0, 0, 0, 0, 1, 0, 0] --> 2.3315608501434326 \n",
      "16: [0, 0, 0, 0, 0, 0, 0, 0, 0, 0, 0, 0, 0, 0, 0, 0, 1, 0] --> 4.671578884124756 \n"
     ]
    },
    {
     "name": "stdout",
     "output_type": "stream",
     "text": [
      "17: [0, 0, 0, 0, 0, 0, 0, 0, 0, 0, 0, 0, 0, 0, 0, 0, 0, 1] --> 9.415632009506226 \n",
      "18: [0, 0, 0, 0, 0, 0, 0, 0, 0, 0, 0, 0, 0, 0, 0, 0, 0, 0] --> 19.033061981201172 \n"
     ]
    },
    {
     "name": "stdout",
     "output_type": "stream",
     "text": [
      "\n",
      "Total running time was 19.033061981201172 \n",
      "\n"
     ]
    },
    {
     "data": {
      "text/plain": [
       "([2.7217561537895563e-10, 2.0511392497674086e-10, 1.2656272180993668e-10, 1.609940050197045e-10, 9.990845536945667e-11, 1.1392632071559848e-10, 4.662273502581047e-10, 2.3331189530264446e-10, 8.432527251337266e-11, 8.541489217306353e-11  …  7.75453816827601e-11, 9.437953749687894e-11, 3.2986720885190557e-10, 1.8044558122015664e-10, 6.792086967724945e-10, 1.3605535432005891e-10, 1.908471706948793e-10, 1.3942699807743299e-10, 2.790684820275051e-10, 5.935760863406449e-10], [0.02911513068890243, 0.01097062247980413, 0.01743922847719698, 0.012885447236388941, 0.016244015741358957, 0.06235495903364059, 0.030045517479015276, 0.010869634075051732, 0.00882821152000157, 0.044116890772693415  …  0.007207602188520982, 0.007732171037148874, 0.029583424860576715, 0.016643200395751994, 0.09510964578228936, 0.016426171161670933, 0.02121727515460768, 0.011196132081267135, 0.024798391441625562, 0.05108128323429383], Any[0.00010085105895996094, 0.00017189979553222656, 0.0024139881134033203, 0.0027740001678466797, 0.0033299922943115234, 0.004363059997558594, 0.006532907485961914, 0.010828971862792969, 0.027920007705688477, 0.044113874435424805, 0.09161996841430664, 0.16587591171264648, 0.30801892280578613, 0.5980269908905029, 1.181765079498291, 2.3315608501434326, 4.671578884124756, 9.415632009506226, 19.033061981201172])"
      ]
     },
     "metadata": {},
     "output_type": "display_data"
    }
   ],
   "source": [
    "include(\"packages.jl\")\n",
    "include(\"quickscore_preparation.jl\")\n",
    "include(\"quickscore_algorithm.jl\")\n",
    "\n",
    "# LOAD SOME RANDOM VARIABLES previn,pfminneg,pfmin FOR A CERTAIN m=17 and run the quickscore\n",
    "file = jldopen(\"variables/m_18.jld\", \"r\")\n",
    "previn = file[\"previn\"]\n",
    "pfminneg = file[\"pfminneg\"]\n",
    "pfmin = file[\"pfmin\"]\n",
    "close(file)\n",
    "\n",
    "# m,n = size(pfmin)\n",
    "# prev = repeat(previn',inner=(n+1,1)); for i in 1:n prev[i+1,i]=1 end \n",
    "# prevend = vcat(1,previn) # prevend are the prevalences 1, P(d_1=1),... P(d_n=1) and is needed to multiply at the end\n",
    "# prevminneg = prev.*pfminneg'\n",
    "\n",
    "pfplus_bigfloat,posterior_bigfloat,dt = quickscore(previn, pfmin, pfminneg,false); \n",
    "# pfplus_prod_bigfloat,posterior_prod_bigfloat,dt = quickscore(previn, pfmin, pfminneg,false); \n",
    "# pfplus_prod,posterior_prod,dt = quickscore(previn, pfmin, pfminneg,false); \n",
    "# pfplus,posterior,dt = quickscore(previn, pfmin, pfminneg,false); "
   ]
  },
  {
   "cell_type": "code",
   "execution_count": 3,
   "metadata": {},
   "outputs": [],
   "source": [
    "matlab_dir = \"/Users/sam/Documents/MATLAB/Wim/\"\n",
    "matfile = matopen(joinpath(matlab_dir,\"variables_julia/test.mat\"),\"r\") \n",
    "posterior_matlab = read(matfile, \"posterior\")[1,:]\n",
    "close(matfile) \n"
   ]
  },
  {
   "cell_type": "code",
   "execution_count": 61,
   "metadata": {},
   "outputs": [
    {
     "data": {
      "text/plain": [
       "101-element Vector{Float64}:\n",
       " 0.0\n",
       " 0.0\n",
       " 0.0\n",
       " 0.0\n",
       " 0.0\n",
       " 0.0\n",
       " 0.0\n",
       " 0.0\n",
       " 0.0\n",
       " 0.0\n",
       " ⋮\n",
       " 0.0\n",
       " 0.0\n",
       " 0.0\n",
       " 0.0\n",
       " 0.0\n",
       " 0.0\n",
       " 0.0\n",
       " 0.0\n",
       " 0.0"
      ]
     },
     "metadata": {},
     "output_type": "display_data"
    }
   ],
   "source": [
    "# posterior_bigfloat - posterior_matlab\n",
    "# posterior - posterior_matlab\n",
    "# posterior - posterior_bigfloat\n",
    "# pfplus - pfplus_bigfloat\n",
    "# pfplus_prod_bigfloat - pfplus_prod\n",
    "# maximum(abs,pfplus - pfplus_prod)\n",
    "# maximum(abs,posterior-posterior_matlab)\n",
    "# sum(abs,posterior-posterior_bigfloat)\n",
    "\n"
   ]
  },
  {
   "cell_type": "code",
   "execution_count": 60,
   "metadata": {},
   "outputs": [
    {
     "data": {
      "text/plain": [
       "100-element Vector{Float64}:\n",
       " 0.03863427903780465\n",
       " 0.02359253879681072\n",
       " 0.02948266764302406\n",
       " 0.035103180386766256\n",
       " 0.038807757091241464\n",
       " 0.03640176694377803\n",
       " 0.03505032265338364\n",
       " 0.03508378040346216\n",
       " 0.028131205718594447\n",
       " 0.03279209704483333\n",
       " ⋮\n",
       " 0.022298354771244\n",
       " 0.024409479482574062\n",
       " 0.02510381955024049\n",
       " 0.038112772248468374\n",
       " 0.032860178613262424\n",
       " 0.0302588972152099\n",
       " 0.021855983282309324\n",
       " 0.02418588226802133\n",
       " 0.023422573817540676"
      ]
     },
     "metadata": {},
     "output_type": "display_data"
    }
   ],
   "source": [
    "previn"
   ]
  },
  {
   "cell_type": "code",
   "execution_count": 12,
   "metadata": {},
   "outputs": [],
   "source": []
  },
  {
   "cell_type": "code",
   "execution_count": 11,
   "metadata": {},
   "outputs": [],
   "source": []
  },
  {
   "cell_type": "code",
   "execution_count": null,
   "metadata": {},
   "outputs": [],
   "source": []
  },
  {
   "cell_type": "code",
   "execution_count": null,
   "metadata": {},
   "outputs": [],
   "source": []
  },
  {
   "cell_type": "code",
   "execution_count": null,
   "metadata": {},
   "outputs": [],
   "source": []
  },
  {
   "cell_type": "code",
   "execution_count": null,
   "metadata": {},
   "outputs": [],
   "source": []
  }
 ],
 "metadata": {
  "kernelspec": {
   "display_name": "Julia 1.9.3",
   "language": "julia",
   "name": "julia-1.9"
  },
  "language_info": {
   "file_extension": ".jl",
   "mimetype": "application/julia",
   "name": "julia",
   "version": "1.9.3"
  },
  "orig_nbformat": 4
 },
 "nbformat": 4,
 "nbformat_minor": 2
}
