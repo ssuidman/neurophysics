{
 "cells": [
  {
   "cell_type": "code",
   "execution_count": 103,
   "metadata": {},
   "outputs": [
    {
     "name": "stdout",
     "output_type": "stream",
     "text": [
      "m=18\n",
      "flip\n",
      "0: [1, 0, 0, 0, 0, 0, 0, 0, 0, 0, 0, 0, 0, 0, 0, 0, 0, 0] --> 0.0011508464813232422 \n",
      "1: [0, 1, 0, 0, 0, 0, 0, 0, 0, 0, 0, 0, 0, 0, 0, 0, 0, 0] --> 0.0012598037719726562 \n",
      "2: [0, 0, 1, 0, 0, 0, 0, 0, 0, 0, 0, 0, 0, 0, 0, 0, 0, 0] --> 0.0014278888702392578 \n",
      "3: [0, 0, 0, 1, 0, 0, 0, 0, 0, 0, 0, 0, 0, 0, 0, 0, 0, 0] --> 0.0016829967498779297 \n",
      "4: [0, 0, 0, 0, 1, 0, 0, 0, 0, 0, 0, 0, 0, 0, 0, 0, 0, 0] --> 0.0020809173583984375 \n",
      "5: [0, 0, 0, 0, 0, 1, 0, 0, 0, 0, 0, 0, 0, 0, 0, 0, 0, 0] --> 0.0029408931732177734 \n",
      "6: [0, 0, 0, 0, 0, 0, 1, 0, 0, 0, 0, 0, 0, 0, 0, 0, 0, 0] --> 0.004597902297973633 \n",
      "7: [0, 0, 0, 0, 0, 0, 0, 1, 0, 0, 0, 0, 0, 0, 0, 0, 0, 0] --> 0.007776975631713867 \n",
      "8: [0, 0, 0, 0, 0, 0, 0, 0, 1, 0, 0, 0, 0, 0, 0, 0, 0, 0] --> 0.021472930908203125 \n",
      "9: [0, 0, 0, 0, 0, 0, 0, 0, 0, 1, 0, 0, 0, 0, 0, 0, 0, 0] --> 0.034210920333862305 \n",
      "10: [0, 0, 0, 0, 0, 0, 0, 0, 0, 0, 1, 0, 0, 0, 0, 0, 0, 0] --> 0.06427383422851562 \n"
     ]
    },
    {
     "name": "stdout",
     "output_type": "stream",
     "text": [
      "11: [0, 0, 0, 0, 0, 0, 0, 0, 0, 0, 0, 1, 0, 0, 0, 0, 0, 0] --> 0.12620997428894043 \n",
      "12: [0, 0, 0, 0, 0, 0, 0, 0, 0, 0, 0, 0, 1, 0, 0, 0, 0, 0] --> 0.2340259552001953 \n"
     ]
    },
    {
     "name": "stdout",
     "output_type": "stream",
     "text": [
      "13: [0, 0, 0, 0, 0, 0, 0, 0, 0, 0, 0, 0, 0, 1, 0, 0, 0, 0] --> 0.4434068202972412 \n",
      "14: [0, 0, 0, 0, 0, 0, 0, 0, 0, 0, 0, 0, 0, 0, 1, 0, 0, 0] --> 0.8820679187774658 \n"
     ]
    },
    {
     "name": "stdout",
     "output_type": "stream",
     "text": [
      "15: [0, 0, 0, 0, 0, 0, 0, 0, 0, 0, 0, 0, 0, 0, 0, 1, 0, 0] --> 1.754612922668457 \n",
      "16: [0, 0, 0, 0, 0, 0, 0, 0, 0, 0, 0, 0, 0, 0, 0, 0, 1, 0] --> 3.5190539360046387 \n"
     ]
    },
    {
     "name": "stdout",
     "output_type": "stream",
     "text": [
      "17: [0, 0, 0, 0, 0, 0, 0, 0, 0, 0, 0, 0, 0, 0, 0, 0, 0, 1] --> 6.973453998565674 \n",
      "18: [0, 0, 0, 0, 0, 0, 0, 0, 0, 0, 0, 0, 0, 0, 0, 0, 0, 0] --> 13.830798864364624 \n"
     ]
    },
    {
     "name": "stdout",
     "output_type": "stream",
     "text": [
      "\n",
      "Total running time was 13.830798864364624 \n",
      "\n"
     ]
    }
   ],
   "source": [
    "include(\"packages.jl\")\n",
    "include(\"quickscore_preparation.jl\")\n",
    "include(\"quickscore_algorithm.jl\")\n",
    "\n",
    "# LOAD SOME RANDOM VARIABLES previn,pfminneg,pfmin FOR A CERTAIN m=17 and run the quickscore\n",
    "file = jldopen(\"variables/m_18.jld\", \"r\")\n",
    "previn = file[\"previn\"]\n",
    "pfminneg = file[\"pfminneg\"]\n",
    "pfmin = file[\"pfmin\"]\n",
    "close(file)\n",
    "\n",
    "m,n = size(pfmin)\n",
    "prev = repeat(previn',inner=(n+1,1)); for i in 1:n prev[i+1,i]=1 end \n",
    "prevend = vcat(1,previn) # prevend are the prevalences 1, P(d_1=1),... P(d_n=1) and is needed to multiply at the end\n",
    "prevminneg = prev.*pfminneg'\n",
    "\n",
    "pfplus,posterior,dt = quickscore(previn, pfmin, pfminneg,false); "
   ]
  },
  {
   "cell_type": "code",
   "execution_count": 34,
   "metadata": {},
   "outputs": [
    {
     "data": {
      "text/plain": [
       "([0.0, 0.0, 0.0, 0.0, 0.0, 0.0, 0.0, 0.0, 0.0, 0.0  …  0.0, 0.0, 0.0, 0.0, 0.0, 0.0, 0.0, 0.0, 0.0, 0.0], [0.22980037119381158 0.7053003835742215 … 0.251968697706778 0.7998111045114923; 0.6503715621173424 0.025641304708666657 … 0.11799004455748563 0.6211781509957688; … ; 0.20650915167554396 0.7212680798705308 … 0.43488155634499637 0.4651098776231325; 0.7970559295114996 0.3365055093949475 … 0.2651031660907932 0.3487389072296637], [0.4072815671488693 0.583031532646441 … 0.6072751174336536 0.38574162617301533], [1 1 … -1 1; 1 -1 … -1 -1; … ; -1 1 … -1 -1; -1 -1 … -1 1], [NaN; 2.6528509205e-314; … ; 0.0; 0.0;;])"
      ]
     },
     "metadata": {},
     "output_type": "display_data"
    }
   ],
   "source": [
    "x, myset, pfmin, prevminneg, prev, M, n = rand(101, 100), [1,4,5,6], rand(18,100), rand(101,100), rand(101,100), 200000, 100\n",
    "y, z, m, z_int, c = zeros(n), rand(M,n), rand(1,n), rand([-1 1],M,n), Matrix{Float64}(undef,M,1)\n"
   ]
  },
  {
   "cell_type": "code",
   "execution_count": 50,
   "metadata": {},
   "outputs": [],
   "source": []
  },
  {
   "cell_type": "code",
   "execution_count": 153,
   "metadata": {},
   "outputs": [],
   "source": [
    "setprecision(BigFloat, 20) # low precision\n",
    "x = big\"1.23456789\"\n",
    "y = sin(x)\n",
    "setprecision(BigFloat, 2000) # higher precision\n",
    "println(y)\n",
    "x = big\"1.23456789\"\n",
    "y = sin(x)\n",
    "println(y)\n"
   ]
  },
  {
   "cell_type": "code",
   "execution_count": 155,
   "metadata": {},
   "outputs": [],
   "source": []
  },
  {
   "cell_type": "code",
   "execution_count": 94,
   "metadata": {},
   "outputs": [],
   "source": []
  },
  {
   "cell_type": "code",
   "execution_count": 151,
   "metadata": {},
   "outputs": [],
   "source": []
  },
  {
   "cell_type": "code",
   "execution_count": 150,
   "metadata": {},
   "outputs": [],
   "source": []
  }
 ],
 "metadata": {
  "kernelspec": {
   "display_name": "Julia 1.9.3",
   "language": "julia",
   "name": "julia-1.9"
  },
  "language_info": {
   "file_extension": ".jl",
   "mimetype": "application/julia",
   "name": "julia",
   "version": "1.9.3"
  },
  "orig_nbformat": 4
 },
 "nbformat": 4,
 "nbformat_minor": 2
}
