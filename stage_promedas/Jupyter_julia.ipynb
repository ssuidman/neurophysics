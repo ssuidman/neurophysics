{
 "cells": [
  {
   "cell_type": "code",
   "execution_count": 5,
   "metadata": {},
   "outputs": [
    {
     "name": "stdout",
     "output_type": "stream",
     "text": [
      "m=19\n",
      "Binary\n",
      "[1, 0, 0, 0, 0, 0, 0, 0, 0, 0, 0, 0, 0, 0, 0, 0, 0, 0, 0]\n",
      "[0, 1, 0, 0, 0, 0, 0, 0, 0, 0, 0, 0, 0, 0, 0, 0, 0, 0, 0]\n",
      "[0, 0, 1, 0, 0, 0, 0, 0, 0, 0, 0, 0, 0, 0, 0, 0, 0, 0, 0]\n",
      "[0, 0, 0, 1, 0, 0, 0, 0, 0, 0, 0, 0, 0, 0, 0, 0, 0, 0, 0]\n",
      "[0, 0, 0, 0, 1, 0, 0, 0, 0, 0, 0, 0, 0, 0, 0, 0, 0, 0, 0]\n",
      "[0, 0, 0, 0, 0, 1, 0, 0, 0, 0, 0, 0, 0, 0, 0, 0, 0, 0, 0]\n",
      "[0, 0, 0, 0, 0, 0, 1, 0, 0, 0, 0, 0, 0, 0, 0, 0, 0, 0, 0]\n",
      "[0, 0, 0, 0, 0, 0, 0, 1, 0, 0, 0, 0, 0, 0, 0, 0, 0, 0, 0]\n",
      "[0, 0, 0, 0, 0, 0, 0, 0, 1, 0, 0, 0, 0, 0, 0, 0, 0, 0, 0]\n",
      "[0, 0, 0, 0, 0, 0, 0, 0, 0, 1, 0, 0, 0, 0, 0, 0, 0, 0, 0]\n",
      "[0, 0, 0, 0, 0, 0, 0, 0, 0, 0, 1, 0, 0, 0, 0, 0, 0, 0, 0]\n"
     ]
    },
    {
     "name": "stdout",
     "output_type": "stream",
     "text": [
      "[0, 0, 0, 0, 0, 0, 0, 0, 0, 0, 0, 1, 0, 0, 0, 0, 0, 0, 0]\n"
     ]
    },
    {
     "name": "stdout",
     "output_type": "stream",
     "text": [
      "[0, 0, 0, 0, 0, 0, 0, 0, 0, 0, 0, 0, 1, 0, 0, 0, 0, 0, 0]\n"
     ]
    },
    {
     "name": "stdout",
     "output_type": "stream",
     "text": [
      "[0, 0, 0, 0, 0, 0, 0, 0, 0, 0, 0, 0, 0, 1, 0, 0, 0, 0, 0]\n"
     ]
    },
    {
     "name": "stdout",
     "output_type": "stream",
     "text": [
      "[0, 0, 0, 0, 0, 0, 0, 0, 0, 0, 0, 0, 0, 0, 1, 0, 0, 0, 0]\n"
     ]
    },
    {
     "name": "stdout",
     "output_type": "stream",
     "text": [
      "[0, 0, 0, 0, 0, 0, 0, 0, 0, 0, 0, 0, 0, 0, 0, 1, 0, 0, 0]\n"
     ]
    },
    {
     "name": "stdout",
     "output_type": "stream",
     "text": [
      "[0, 0, 0, 0, 0, 0, 0, 0, 0, 0, 0, 0, 0, 0, 0, 0, 1, 0, 0]\n"
     ]
    },
    {
     "name": "stdout",
     "output_type": "stream",
     "text": [
      "[0, 0, 0, 0, 0, 0, 0, 0, 0, 0, 0, 0, 0, 0, 0, 0, 0, 1, 0]\n"
     ]
    },
    {
     "name": "stdout",
     "output_type": "stream",
     "text": [
      "[0, 0, 0, 0, 0, 0, 0, 0, 0, 0, 0, 0, 0, 0, 0, 0, 0, 0, 1]\n"
     ]
    },
    {
     "data": {
      "text/plain": [
       "([1.3690144551831682, 0.05813270816142494, 0.41435450885376696, 0.07515348485334647, 0.03568474595232682, 0.3181945108799545, 0.06465152549800351, 0.10980253852817555, 0.12120018488765211, 0.18764417803629027  …  0.27256332440411307, 0.12051612013489248, 0.19542090686776398, 0.06695727976296702, 0.14387350507789523, 0.06683476049810413, 0.4977944677592737, 0.10628429539060562, 0.6756187442882688, 0.06572776389875398], [0.0008781859846702725, 0.011056158571440227, 0.0018778831826386062, 0.0006622134586413259, 0.007379495325726182, 0.0013527849026807135, 0.003122439199385806, 0.0032687631325266403, 0.004328600864160095, 0.005575642620276375  …  0.006309332973850181, 0.001929180497871877, 0.003540995223829473, 0.0015245902189892015, 0.0030149615848566068, 0.0016109546619039138, 0.009484351022729532, 0.003059375107225095, 0.016129379102612203, 0.0011052419830163873], 27.11491298675537)"
      ]
     },
     "metadata": {},
     "output_type": "display_data"
    }
   ],
   "source": [
    "using PrettyTables\n",
    "using CSV\n",
    "using DataFrames\n",
    "using JLD2\n",
    "using MAT\n",
    "using Plots\n",
    "using Profile\n",
    "using PProf\n",
    "include(\"quickscore_preparation.jl\")\n",
    "include(\"quickscore_algorithm.jl\")\n",
    "\n",
    "file = jldopen(\"variables/m_19.jld\", \"r\")\n",
    "previn = file[\"previn\"]\n",
    "pfminneg = file[\"pfminneg\"]\n",
    "pfmin = file[\"pfmin\"]\n",
    "close(file)\n",
    "\n",
    "# pfplus,posterior,dt = 0,0,0\n",
    "pfplus, posterior, dt = quickscore(previn,pfmin,pfminneg,true)\n",
    "\n",
    "# m, n = !isempty(pfmin) ? size(pfmin) : (0, length(previn)) \n",
    "# prev = repeat(previn',inner=(n+1,1)) \n",
    "# for i in 1:n prev[i+1,i]=1 end \n",
    "# prevend = vcat(1,previn) \n",
    "# prevminneg = !isempty(pfminneg) ? prev.*pfminneg' : prev.*ones(n+1,n) \n",
    "\n",
    "# v = rand([0,1],15)\n",
    "# myset = findall(v.==1)\n",
    "\n",
    "# exp.(sum(log.(1e-50 .+ (prod(pfmin[myset, :],dims=1) .* prevminneg .+ (1 .- prev))), dims=2))\n",
    "# matrix = BigFloat.(1e-50 .+ (prod(pfmin[myset, :],dims=1) .* prevminneg .+ (1 .- prev)))\n",
    "# prod(matrix,dims=2)\n",
    "\n",
    "# prod(pfmin[myset, :],dims=1)\n"
   ]
  },
  {
   "cell_type": "code",
   "execution_count": 12,
   "metadata": {},
   "outputs": [
    {
     "data": {
      "text/plain": [
       "Bool"
      ]
     },
     "metadata": {},
     "output_type": "display_data"
    }
   ],
   "source": [
    "# @code_warntype quickscore(previn, pfmin, pfminneg, true)\n",
    "\n",
    "# typeof(true)"
   ]
  },
  {
   "cell_type": "code",
   "execution_count": null,
   "metadata": {},
   "outputs": [],
   "source": []
  }
 ],
 "metadata": {
  "kernelspec": {
   "display_name": "Julia 1.9.3",
   "language": "julia",
   "name": "julia-1.9"
  },
  "language_info": {
   "file_extension": ".jl",
   "mimetype": "application/julia",
   "name": "julia",
   "version": "1.9.3"
  },
  "orig_nbformat": 4
 },
 "nbformat": 4,
 "nbformat_minor": 2
}
