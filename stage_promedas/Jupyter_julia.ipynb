{
 "cells": [
  {
   "cell_type": "code",
   "execution_count": 1,
   "metadata": {},
   "outputs": [
    {
     "data": {
      "text/plain": [
       "([0.07927265814461164, 0.0826561066708548, 0.05491743040986298, 0.07858165175362931, 0.06204876410325505, 0.0834596052501126, 0.06730645803698265, 0.05376645139530509, 0.06406985928878361, 0.05671033577080863  …  0.06750351102189617, 0.06682712210726723, 0.09441990478812624, 0.08682596229187772, 0.06802987917004126, 0.08433769784532713, 0.10099782622470424, 0.10115049241831356, 0.07094696089904944, 0.07367511390379711], [0.6849497637433479 0.6992971190877431 … 0.6355122172325677 0.5458374483718655; 0.7269816626801567 1.0 … 1.0 1.0; … ; 1.0 0.7633864732612541 … 0.7368562817087931 0.5140838554335337; 1.0 0.8861388799213513 … 1.0 1.0], [0.018109641015317816 0.016311396992514632 … 0.01266003936184626 0.04424633905613558])"
      ]
     },
     "metadata": {},
     "output_type": "display_data"
    }
   ],
   "source": [
    "using Random\n",
    "include(\"quickscore_preparation.jl\")\n",
    "previn,pfmin,pfminneg = quickscore_preparation()"
   ]
  },
  {
   "cell_type": "code",
   "execution_count": 3,
   "metadata": {},
   "outputs": [],
   "source": [
    "m, n = !isempty(pfmin) ? size(pfmin) : (0, length(previn)) # m number of postests. n number of diags. if size(postest) is 0, then we set m=0 `` \n",
    "pfplus = zeros(n+1)  # will be used for P(F+,F-), P(F+,F-|d_1=1),... P(F+,F-|d_n=1) (note F- will be absorbed below) \n",
    "prev = repeat(previn',inner=(41,1)) # copies of prevalences\n",
    "for i in 1:n prev[i+1,i]=1 end # set the (i+1,i) entry 1 to condition on d_i=1,  etc. \n",
    "prevend = vcat(1,previn) # prevend are the prevalences 1, P(d_1=1),... P(d_n=1) and is needed to multiply at the end\n",
    "prevminneg = !isempty(pfminneg) ? prev.*pfminneg : prev.*ones(n+1,n) # absorb negative findings in prevminneg (so these are p(F-|d_1=1)p(d_1=1), ... p(F-|d_n=1)p(d_n=1) ), which is needed in heckerman eqn 11 (compare with heckerman 10, there is a constant difference which is incorporated in the block below)\n",
    "\n",
    "myset = 0\n",
    "for i in 1:(2^m-1) # iterate over 2^m possibilities \n",
    "    v = digits(i,base=2,pad=8) # create vector of 0's and 1's from binary number i \n",
    "    myset = findall(v.==1) # find places of the 1-elements\n",
    "    if length(myset)==1\n",
    "        pfplus .+= ((-1)^length(myset)) .* exp.(sum(log.(1e-50 .+ pfmin[myset, :] .* prevminneg .+ (1 .- prev)), dims=2))\n",
    "    else\n",
    "        pfplus .+= ((-1)^length(myset)) .* exp.(sum(log.(1e-50 .+ (prod(pfmin[myset, :]) .* prevminneg .+ (1 .- prev))), dims=2))\n",
    "    end\n",
    "end\n"
   ]
  },
  {
   "cell_type": "code",
   "execution_count": 4,
   "metadata": {},
   "outputs": [
    {
     "data": {
      "text/plain": [
       "41-element Vector{Float64}:\n",
       " -0.07686119009149045\n",
       " -0.007093557999841003\n",
       " -0.006283581923354902\n",
       " -0.01418531290265886\n",
       " -0.010947756095282372\n",
       " -0.0017957978537175945\n",
       " -0.0928142870248106\n",
       " -0.017906439812731604\n",
       " -0.0023388491440284914\n",
       " -0.00652889661746217\n",
       "  ⋮\n",
       " -0.012153287072603406\n",
       " -0.0018654706702428115\n",
       " -0.003719391043585185\n",
       " -0.026663107402033606\n",
       " -0.008531359887891382\n",
       " -0.006482695475990013\n",
       " -0.005960378588353274\n",
       " -0.004857129038827414\n",
       " -0.015711627946289053"
      ]
     },
     "metadata": {},
     "output_type": "display_data"
    }
   ],
   "source": [
    "pfplus"
   ]
  }
 ],
 "metadata": {
  "kernelspec": {
   "display_name": "Julia 1.9.3",
   "language": "julia",
   "name": "julia-1.9"
  },
  "language_info": {
   "file_extension": ".jl",
   "mimetype": "application/julia",
   "name": "julia",
   "version": "1.9.3"
  },
  "orig_nbformat": 4
 },
 "nbformat": 4,
 "nbformat_minor": 2
}
