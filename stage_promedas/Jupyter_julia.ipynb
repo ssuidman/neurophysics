{
 "cells": [
  {
   "cell_type": "code",
   "execution_count": 8,
   "metadata": {},
   "outputs": [
    {
     "data": {
      "text/plain": [
       "30×40 Matrix{Float64}:\n",
       " 0.0       0.0       0.0       0.105747  …  0.0       0.459955  0.416604\n",
       " 0.0       0.0       0.0       0.0          0.42998   0.195314  0.0\n",
       " 0.0       0.0       0.328993  0.378207     0.426252  0.0       0.31878\n",
       " 0.0       0.0       0.38083   0.0          0.0       0.0       0.160173\n",
       " 0.367093  0.200616  0.436865  0.0          0.0       0.243231  0.261676\n",
       " 0.0       0.0       0.0       0.492325  …  0.0       0.241484  0.281887\n",
       " 0.0       0.368226  0.448839  0.0          0.129511  0.341726  0.0\n",
       " 0.0       0.0       0.330748  0.0          0.298143  0.179461  0.0\n",
       " 0.0       0.0       0.0       0.303429     0.341852  0.173589  0.43337\n",
       " 0.0       0.0       0.178385  0.104761     0.162747  0.0       0.0\n",
       " ⋮                                       ⋱                      \n",
       " 0.350561  0.0       0.0       0.454234     0.0       0.0       0.0\n",
       " 0.0       0.434459  0.0       0.0          0.0       0.189598  0.105968\n",
       " 0.0       0.378896  0.238349  0.0          0.226148  0.0       0.0\n",
       " 0.0       0.452393  0.498622  0.321486     0.280666  0.174979  0.0\n",
       " 0.0       0.0       0.373525  0.0       …  0.0       0.0       0.133298\n",
       " 0.345041  0.0       0.0       0.0          0.0       0.416415  0.0\n",
       " 0.377576  0.0       0.0       0.0          0.229933  0.0       0.0\n",
       " 0.233874  0.0       0.0       0.169778     0.348237  0.0       0.472889\n",
       " 0.0       0.385818  0.0       0.24746      0.0       0.0       0.179784"
      ]
     },
     "metadata": {},
     "output_type": "display_data"
    }
   ],
   "source": [
    "using Random\n",
    "\n",
    "# parameters\n",
    "n_disease = 40   # number of diseases\n",
    "n_test = 30      # number of findings\n",
    "expected_number_of_diseases = 3  # typical number of diags\n",
    "sparseness1 = 0.5  # connection density\n",
    "\n",
    "# the model\n",
    "prev = (rand(1, n_disease) .+ 1) / 2  # prevalences of diseases, random between 0.5 and 1\n",
    "prev .= expected_number_of_diseases * prev / sum(prev)  # in expectation sumofdiags diseases present\n",
    "\n",
    "connections = rand(n_test, n_disease) .< sparseness1  # selection of connections\n",
    "sensorig = (1 .+ 4 .* rand(n_test, n_disease)) ./ 10 .* connections  # sensitivities random between 0.1 and 0.5\n"
   ]
  },
  {
   "cell_type": "code",
   "execution_count": 191,
   "metadata": {},
   "outputs": [],
   "source": [
    "\n",
    "#=\n",
    "\n",
    "# data generation. Generate diseases according to the prevalences. Then\n",
    "# test results (=findings) according to the sensitivities.\n",
    "# accept if the number of diseases and the number of positive findings is OK,\n",
    "# else try again.\n",
    "flag = true\n",
    "while flag\n",
    "    actualdiags = findall(rand(1, n_disease) .< prev)  # generate diseases\n",
    "    ndiags = length(actualdiags)\n",
    "\n",
    "    testresults = any(rand(n_test, ndiags) .< (sensorig[:, actualdiags]), dims=2)  # generate test results\n",
    "\n",
    "    postest = findall(testresults .== 1)\n",
    "    negtest = findall(testresults .== 0)\n",
    "    m = length(postest)\n",
    "    println([ndiags, m])\n",
    "    if (m > 5) && (m < 15) && (!isempty(actualdiags))\n",
    "        # for now, only cases with at least 5 positive tests, but no more than\n",
    "        # 14 positive tests, and at least one disease.\n",
    "        flag = false\n",
    "    end\n",
    "end\n",
    "\n",
    "# gather data (some data preparation for the Quickscore algorithm)\n",
    "sens = sensorig[postest, :]\n",
    "sensneg = sensorig[negtest, :]\n",
    "\n",
    "pfmin = 1 .- sens\n",
    "pfminneg = prod(1 .- sensneg, dims=1)  # be careful with the dimensions: scalar result prod(1 - sensneg) for singleton neg test is wrong.\n",
    "\n",
    "# Here it goes into quickscore.\n",
    "tic()\n",
    "(posterior, pfpluspd, pfplus) = fun_quickscoreW(prev, pfmin, pfminneg)\n",
    "timep = toq()\n",
    "\n",
    "actualdiseases = zeros(size(prev))\n",
    "actualdiseases[actualdiags] .= 1\n",
    "println(\"prevalences, posteriors, actual diseases\")\n",
    "println([prev', posterior', actualdiseases'])\n",
    "println(\"\\nPositive findings: $m, time: $timep\")\n",
    "```\n",
    "\n",
    "Please note that there may be some differences in indexing and broadcasting between MATLAB and Julia, so I've adjusted the code accordingly. Also, Julia uses 1-based indexing, so some array indices have been adjusted accordingly.\n",
    "=#\n"
   ]
  },
  {
   "cell_type": "code",
   "execution_count": null,
   "metadata": {},
   "outputs": [],
   "source": []
  }
 ],
 "metadata": {
  "kernelspec": {
   "display_name": "Julia 1.9.3",
   "language": "julia",
   "name": "julia-1.9"
  },
  "language_info": {
   "file_extension": ".jl",
   "mimetype": "application/julia",
   "name": "julia",
   "version": "1.9.3"
  },
  "orig_nbformat": 4
 },
 "nbformat": 4,
 "nbformat_minor": 2
}
