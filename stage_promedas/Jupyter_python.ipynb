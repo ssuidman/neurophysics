{
 "cells": [
  {
   "cell_type": "code",
   "execution_count": 155,
   "metadata": {},
   "outputs": [
    {
     "name": "stdout",
     "output_type": "stream",
     "text": [
      "0\n"
     ]
    }
   ],
   "source": [
    "import numpy as np\n",
    "import string\n",
    "\n",
    "x = np.array([\"hond\",\"kat\",\"muis\"])\n",
    "y = np.arange(1,4)\n",
    "n=7\n",
    "z = np.array(list(string.ascii_lowercase))[:n]\n",
    "def f(x):\n",
    "    power_set = [ list(x[np.where( np.array(list(format(i,f\"0\"+str(len(x))+\"b\")[::-1]),dtype=int)==1 )]) for i in range(2**len(x)) ]\n",
    "    return power_set\n",
    "\n",
    "power_set = f(z)\n",
    "print(int(np.log2(len(power_set))-n))"
   ]
  },
  {
   "cell_type": "code",
   "execution_count": 125,
   "metadata": {},
   "outputs": [
    {
     "data": {
      "text/plain": [
       "'010100000'"
      ]
     },
     "execution_count": 125,
     "metadata": {},
     "output_type": "execute_result"
    }
   ],
   "source": [
    "\n",
    "format(10,f\"0\"+str(len(x))+\"b\")[::-1]"
   ]
  }
 ],
 "metadata": {
  "kernelspec": {
   "display_name": "base",
   "language": "python",
   "name": "python3"
  },
  "language_info": {
   "codemirror_mode": {
    "name": "ipython",
    "version": 3
   },
   "file_extension": ".py",
   "mimetype": "text/x-python",
   "name": "python",
   "nbconvert_exporter": "python",
   "pygments_lexer": "ipython3",
   "version": "3.11.4"
  },
  "orig_nbformat": 4
 },
 "nbformat": 4,
 "nbformat_minor": 2
}
