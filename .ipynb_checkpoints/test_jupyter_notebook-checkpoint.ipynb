{
 "cells": [
  {
   "cell_type": "code",
   "execution_count": 1,
   "metadata": {
    "scrolled": true
   },
   "outputs": [],
   "source": [
    "import numpy as np\n",
    "import matplotlib.pyplot as plt"
   ]
  },
  {
   "cell_type": "code",
   "execution_count": null,
   "metadata": {},
   "outputs": [],
   "source": [
    "# dV/dt = (E_L - V + R_m*I_e)/tau_m\n",
    "V_rest = -70*10**(-3)\n",
    "R_m = 10*10**6\n",
    "tau_m = 10*10**(-3)\n",
    "# V[0] = V_rest\n",
    "V_th = -54*10**(-3)\n",
    "V_reset = -80*10**(-3)\n",
    "# if V = V_th --> spike and V = V_reset\n",
    "t_pulse = 300*10**(-3)\n",
    "t_simulation = 500*10**(-3)\n",
    "\n",
    "# for different I_e compare with book:\n",
    "# firing_rate r=1/t_ISI\n",
    "r_book = (tau_m*np.log((R_m*I_e+E_L-V_reset)/(R_m*I_e+E_L-V_th)))"
   ]
  },
  {
   "cell_type": "code",
   "execution_count": null,
   "metadata": {},
   "outputs": [],
   "source": []
  },
  {
   "cell_type": "code",
   "execution_count": null,
   "metadata": {},
   "outputs": [],
   "source": []
  }
 ],
 "metadata": {
  "interpreter": {
   "hash": "4aedca058b4155234967fa3da88bf0b29abe2f47d758f3debe6af85bc2e061a5"
  },
  "kernelspec": {
   "display_name": "Python 3",
   "language": "python",
   "name": "python3"
  },
  "language_info": {
   "codemirror_mode": {
    "name": "ipython",
    "version": 3
   },
   "file_extension": ".py",
   "mimetype": "text/x-python",
   "name": "python",
   "nbconvert_exporter": "python",
   "pygments_lexer": "ipython3",
   "version": "3.7.11"
  }
 },
 "nbformat": 4,
 "nbformat_minor": 2
}
